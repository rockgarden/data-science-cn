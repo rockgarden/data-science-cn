{
 "cells": [
  {
   "cell_type": "markdown",
   "metadata": {},
   "source": [
    "# 创建错误数据"
   ]
  },
  {
   "cell_type": "code",
   "execution_count": 2,
   "metadata": {},
   "outputs": [],
   "source": [
    "import pandas as pd\n",
    "import numpy as np\n",
    "import os,random\n",
    "\n",
    "# os.chdir(r\"E:\\git\\data-science\\pandas_demo\\data\")\n",
    "\n",
    "# 获得数据（可用相对路径获取文件）\n",
    "datas = pd.read_csv('data/titanic_train.csv')"
   ]
  },
  {
   "cell_type": "code",
   "execution_count": null,
   "metadata": {},
   "outputs": [],
   "source": [
    "# 明确缺失值、重复值、异常值\n",
    "na_value = np.nan\n",
    "duplicate_vlaues = []\n",
    "exception_values = [99999999,0.0000001,'卯月']\n",
    "\n",
    "# 找到我们待会儿要使用的随机索引\n",
    "rows = random.sample(range(891),50)\n",
    "columns = random.sample(range(12),6)\n",
    "\n",
    "# step1：获得我们的重复值\n",
    "for _ in range(10):\n",
    "  i = random.choice(rows)\n",
    "  duplicate_value = datas.iloc[i,:]\n",
    "  duplicate_vlaues.append(duplicate_value)\n",
    "\n",
    "duplicate_vlaues = pd.DataFrame(duplicate_vlaues)\n",
    "\n",
    "# 覆盖原数据并且重置索引\n",
    "datas = pd.concat((datas,duplicate_vlaues),axis=0,ignore_index=True)\n",
    "\n",
    "# step2 ：设定我们的缺失值\n",
    "for _ in range(50):\n",
    "  i = random.choice(rows)\n",
    "  j = random.choice(columns)\n",
    "  datas.iloc[i,j] = np.nan\n",
    "\n",
    "# step3 : 设定我们的异常值\n",
    "for _ in range(50):\n",
    "  i = random.choice(rows)\n",
    "  j = random.choice(columns)\n",
    "  exception_value = random.choice(exception_values)\n",
    "  datas.iloc[i,j] = exception_value\n",
    "\n",
    "# 将我们修改后的数据保存到一个新的csv文件中\n",
    "datas.to_csv('titanic_train_matt.csv')"
   ]
  },
  {
   "cell_type": "code",
   "execution_count": null,
   "metadata": {},
   "outputs": [],
   "source": [
    "# 使用info属性查看信息\n",
    "datas = pd.read_csv('titanic_train_matt.csv',index_col=0)\n",
    "datas.info"
   ]
  },
  {
   "cell_type": "code",
   "execution_count": null,
   "metadata": {},
   "outputs": [],
   "source": [
    "# 查看各列缺失值的比例\n",
    "# 首先根据isnull()方法获得我们的是否是缺失值的901行12列的布尔数组\n",
    "# 之后再针对布尔数组True=1，False=0的性质求平均值，得到各列缺失值所占的比例。\n",
    "datas.isnull().mean()"
   ]
  },
  {
   "cell_type": "code",
   "execution_count": null,
   "metadata": {},
   "outputs": [],
   "source": [
    "# 查看有多少重复行\n",
    "datas.duplicated().sum()\n",
    "\n",
    "# 有哪些重复行数据\n",
    "datas.loc[datas.duplicated(),:]"
   ]
  },
  {
   "cell_type": "code",
   "execution_count": null,
   "metadata": {},
   "outputs": [],
   "source": [
    "# 查看数值型数据的异常值（已知异常值的情况）\n",
    "datas.describe([.01,.10,.25,.75,.99]).T\n",
    "\n",
    "# 查看object对象的异常值\n",
    "datas.describe(include='object').T"
   ]
  },
  {
   "cell_type": "markdown",
   "metadata": {},
   "source": [
    "# 数据预览"
   ]
  },
  {
   "cell_type": "markdown",
   "metadata": {},
   "source": [
    "pandas_profiling依赖包过多且有冲突\n",
    "\n",
    "AttributeError: module 'numba' has no attribute 'generated_jit'"
   ]
  },
  {
   "cell_type": "code",
   "execution_count": null,
   "metadata": {},
   "outputs": [],
   "source": [
    "import pandas as pd\n",
    "import numpy as np\n",
    "import os,pandas_profiling\n",
    "\n",
    "pandas_profiling.ProfileReport(datas)"
   ]
  },
  {
   "cell_type": "markdown",
   "metadata": {},
   "source": [
    "# 处理重复值"
   ]
  },
  {
   "cell_type": "code",
   "execution_count": null,
   "metadata": {},
   "outputs": [],
   "source": [
    "# 删除完全重复的记录\n",
    "datas = pd.read_csv('titanic_train_matt.csv',index_col=0)\n",
    "datas_pd = datas.copy()\n",
    "display(datas_pd.shape)\n",
    "datas_pd.drop_duplicates(inplace=True,ignore_index=True)\n",
    "display(datas_pd.shape)\n",
    "display(datas_pd.info)\n",
    "datas_pd.to_csv('titanic_train_matt_duplicated.csv')"
   ]
  },
  {
   "cell_type": "markdown",
   "metadata": {},
   "source": [
    "# 异常值处理"
   ]
  },
  {
   "cell_type": "code",
   "execution_count": null,
   "metadata": {},
   "outputs": [],
   "source": [
    "# 首先我们查看有哪些异常值\n",
    "datas = pd.read_csv('titanic_train_matt.csv',index_col=0)\n",
    "datas_pd = datas.copy()\n",
    "datas.describe([.01,.25,.50,.75,.99]).T"
   ]
  },
  {
   "cell_type": "code",
   "execution_count": null,
   "metadata": {},
   "outputs": [],
   "source": [
    "# 查看一下object对象有哪些缺失值\n",
    "datas_pd.describe(include='object').T"
   ]
  },
  {
   "cell_type": "code",
   "execution_count": null,
   "metadata": {},
   "outputs": [],
   "source": [
    "# 船费‘Fare’明显出现了极大的异常值，同时我们的船上的隔间‘Cabin’出现了‘卯月’明显不对。\n",
    "# 对船费分析，船费的高低和Pclass（船舱等级）有关，因此可以根据船舱等级求得平均数或者众数作为异常值的替换。\n",
    "# 而对于隔间而言，能否存活和隔间的关系不大，更何况隔间缺失严重，高达76%，因此可以直接丢弃。\n",
    "datas_pd.drop('Cabin',axis=1,inplace=True)\n",
    "datas_pd.shape"
   ]
  },
  {
   "cell_type": "code",
   "execution_count": null,
   "metadata": {},
   "outputs": [],
   "source": [
    "# 填补船费\n",
    "# 首先根据‘Pclass’查看一下各个等级船舱的平均值\n",
    "datas_pd.groupby(by='Pclass').mean()"
   ]
  },
  {
   "cell_type": "code",
   "execution_count": 23,
   "metadata": {},
   "outputs": [
    {
     "data": {
      "text/plain": [
       "array([3, 1, 2], dtype=int64)"
      ]
     },
     "execution_count": 23,
     "metadata": {},
     "output_type": "execute_result"
    }
   ],
   "source": [
    "# 查看数据后发现，卯月的中位数和2.0的中位数接近，99999999的中位数和2.0的中位数接近，1e-07的中位数和2.0的中位数接近。\n",
    "# 因此，我们将‘Pclass’的三个异常值全部判定为2.0，在填充之前我们再看一些各个‘Pclass’的类型\n",
    "datas_pd.loc[:,'Pclass'].unique()"
   ]
  },
  {
   "cell_type": "code",
   "execution_count": 24,
   "metadata": {},
   "outputs": [
    {
     "name": "stderr",
     "output_type": "stream",
     "text": [
      "C:\\Users\\wangkan\\AppData\\Local\\Temp\\ipykernel_12816\\65388791.py:2: FutureWarning: Setting an item of incompatible dtype is deprecated and will raise an error in a future version of pandas. Value '2.0' has dtype incompatible with int64, please explicitly cast to a compatible dtype first.\n",
      "  datas_pd.loc[datas_pd.loc[:,'Pclass']=='1e-07','Pclass']='2.0'\n"
     ]
    },
    {
     "ename": "TypeError",
     "evalue": "agg function failed [how->median,dtype->object]",
     "output_type": "error",
     "traceback": [
      "\u001b[1;31m---------------------------------------------------------------------------\u001b[0m",
      "\u001b[1;31mTypeError\u001b[0m                                 Traceback (most recent call last)",
      "File \u001b[1;32mc:\\Users\\wangkan\\anaconda3\\Lib\\site-packages\\pandas\\core\\groupby\\groupby.py:1942\u001b[0m, in \u001b[0;36mGroupBy._agg_py_fallback\u001b[1;34m(self, how, values, ndim, alt)\u001b[0m\n\u001b[0;32m   1941\u001b[0m \u001b[38;5;28;01mtry\u001b[39;00m:\n\u001b[1;32m-> 1942\u001b[0m     res_values \u001b[38;5;241m=\u001b[39m \u001b[38;5;28mself\u001b[39m\u001b[38;5;241m.\u001b[39m_grouper\u001b[38;5;241m.\u001b[39magg_series(ser, alt, preserve_dtype\u001b[38;5;241m=\u001b[39m\u001b[38;5;28;01mTrue\u001b[39;00m)\n\u001b[0;32m   1943\u001b[0m \u001b[38;5;28;01mexcept\u001b[39;00m \u001b[38;5;167;01mException\u001b[39;00m \u001b[38;5;28;01mas\u001b[39;00m err:\n",
      "File \u001b[1;32mc:\\Users\\wangkan\\anaconda3\\Lib\\site-packages\\pandas\\core\\groupby\\ops.py:864\u001b[0m, in \u001b[0;36mBaseGrouper.agg_series\u001b[1;34m(self, obj, func, preserve_dtype)\u001b[0m\n\u001b[0;32m    862\u001b[0m     preserve_dtype \u001b[38;5;241m=\u001b[39m \u001b[38;5;28;01mTrue\u001b[39;00m\n\u001b[1;32m--> 864\u001b[0m result \u001b[38;5;241m=\u001b[39m \u001b[38;5;28mself\u001b[39m\u001b[38;5;241m.\u001b[39m_aggregate_series_pure_python(obj, func)\n\u001b[0;32m    866\u001b[0m npvalues \u001b[38;5;241m=\u001b[39m lib\u001b[38;5;241m.\u001b[39mmaybe_convert_objects(result, try_float\u001b[38;5;241m=\u001b[39m\u001b[38;5;28;01mFalse\u001b[39;00m)\n",
      "File \u001b[1;32mc:\\Users\\wangkan\\anaconda3\\Lib\\site-packages\\pandas\\core\\groupby\\ops.py:885\u001b[0m, in \u001b[0;36mBaseGrouper._aggregate_series_pure_python\u001b[1;34m(self, obj, func)\u001b[0m\n\u001b[0;32m    884\u001b[0m \u001b[38;5;28;01mfor\u001b[39;00m i, group \u001b[38;5;129;01min\u001b[39;00m \u001b[38;5;28menumerate\u001b[39m(splitter):\n\u001b[1;32m--> 885\u001b[0m     res \u001b[38;5;241m=\u001b[39m func(group)\n\u001b[0;32m    886\u001b[0m     res \u001b[38;5;241m=\u001b[39m extract_result(res)\n",
      "File \u001b[1;32mc:\\Users\\wangkan\\anaconda3\\Lib\\site-packages\\pandas\\core\\groupby\\groupby.py:2534\u001b[0m, in \u001b[0;36mGroupBy.median.<locals>.<lambda>\u001b[1;34m(x)\u001b[0m\n\u001b[0;32m   2461\u001b[0m \u001b[38;5;250m\u001b[39m\u001b[38;5;124;03m\"\"\"\u001b[39;00m\n\u001b[0;32m   2462\u001b[0m \u001b[38;5;124;03mCompute median of groups, excluding missing values.\u001b[39;00m\n\u001b[0;32m   2463\u001b[0m \n\u001b[1;32m   (...)\u001b[0m\n\u001b[0;32m   2530\u001b[0m \u001b[38;5;124;03mFreq: MS, dtype: float64\u001b[39;00m\n\u001b[0;32m   2531\u001b[0m \u001b[38;5;124;03m\"\"\"\u001b[39;00m\n\u001b[0;32m   2532\u001b[0m result \u001b[38;5;241m=\u001b[39m \u001b[38;5;28mself\u001b[39m\u001b[38;5;241m.\u001b[39m_cython_agg_general(\n\u001b[0;32m   2533\u001b[0m     \u001b[38;5;124m\"\u001b[39m\u001b[38;5;124mmedian\u001b[39m\u001b[38;5;124m\"\u001b[39m,\n\u001b[1;32m-> 2534\u001b[0m     alt\u001b[38;5;241m=\u001b[39m\u001b[38;5;28;01mlambda\u001b[39;00m x: Series(x, copy\u001b[38;5;241m=\u001b[39m\u001b[38;5;28;01mFalse\u001b[39;00m)\u001b[38;5;241m.\u001b[39mmedian(numeric_only\u001b[38;5;241m=\u001b[39mnumeric_only),\n\u001b[0;32m   2535\u001b[0m     numeric_only\u001b[38;5;241m=\u001b[39mnumeric_only,\n\u001b[0;32m   2536\u001b[0m )\n\u001b[0;32m   2537\u001b[0m \u001b[38;5;28;01mreturn\u001b[39;00m result\u001b[38;5;241m.\u001b[39m__finalize__(\u001b[38;5;28mself\u001b[39m\u001b[38;5;241m.\u001b[39mobj, method\u001b[38;5;241m=\u001b[39m\u001b[38;5;124m\"\u001b[39m\u001b[38;5;124mgroupby\u001b[39m\u001b[38;5;124m\"\u001b[39m)\n",
      "File \u001b[1;32mc:\\Users\\wangkan\\anaconda3\\Lib\\site-packages\\pandas\\core\\series.py:6559\u001b[0m, in \u001b[0;36mSeries.median\u001b[1;34m(self, axis, skipna, numeric_only, **kwargs)\u001b[0m\n\u001b[0;32m   6551\u001b[0m \u001b[38;5;129m@doc\u001b[39m(make_doc(\u001b[38;5;124m\"\u001b[39m\u001b[38;5;124mmedian\u001b[39m\u001b[38;5;124m\"\u001b[39m, ndim\u001b[38;5;241m=\u001b[39m\u001b[38;5;241m1\u001b[39m))\n\u001b[0;32m   6552\u001b[0m \u001b[38;5;28;01mdef\u001b[39;00m \u001b[38;5;21mmedian\u001b[39m(\n\u001b[0;32m   6553\u001b[0m     \u001b[38;5;28mself\u001b[39m,\n\u001b[1;32m   (...)\u001b[0m\n\u001b[0;32m   6557\u001b[0m     \u001b[38;5;241m*\u001b[39m\u001b[38;5;241m*\u001b[39mkwargs,\n\u001b[0;32m   6558\u001b[0m ):\n\u001b[1;32m-> 6559\u001b[0m     \u001b[38;5;28;01mreturn\u001b[39;00m NDFrame\u001b[38;5;241m.\u001b[39mmedian(\u001b[38;5;28mself\u001b[39m, axis, skipna, numeric_only, \u001b[38;5;241m*\u001b[39m\u001b[38;5;241m*\u001b[39mkwargs)\n",
      "File \u001b[1;32mc:\\Users\\wangkan\\anaconda3\\Lib\\site-packages\\pandas\\core\\generic.py:12431\u001b[0m, in \u001b[0;36mNDFrame.median\u001b[1;34m(self, axis, skipna, numeric_only, **kwargs)\u001b[0m\n\u001b[0;32m  12424\u001b[0m \u001b[38;5;28;01mdef\u001b[39;00m \u001b[38;5;21mmedian\u001b[39m(\n\u001b[0;32m  12425\u001b[0m     \u001b[38;5;28mself\u001b[39m,\n\u001b[0;32m  12426\u001b[0m     axis: Axis \u001b[38;5;241m|\u001b[39m \u001b[38;5;28;01mNone\u001b[39;00m \u001b[38;5;241m=\u001b[39m \u001b[38;5;241m0\u001b[39m,\n\u001b[1;32m   (...)\u001b[0m\n\u001b[0;32m  12429\u001b[0m     \u001b[38;5;241m*\u001b[39m\u001b[38;5;241m*\u001b[39mkwargs,\n\u001b[0;32m  12430\u001b[0m ) \u001b[38;5;241m-\u001b[39m\u001b[38;5;241m>\u001b[39m Series \u001b[38;5;241m|\u001b[39m \u001b[38;5;28mfloat\u001b[39m:\n\u001b[1;32m> 12431\u001b[0m     \u001b[38;5;28;01mreturn\u001b[39;00m \u001b[38;5;28mself\u001b[39m\u001b[38;5;241m.\u001b[39m_stat_function(\n\u001b[0;32m  12432\u001b[0m         \u001b[38;5;124m\"\u001b[39m\u001b[38;5;124mmedian\u001b[39m\u001b[38;5;124m\"\u001b[39m, nanops\u001b[38;5;241m.\u001b[39mnanmedian, axis, skipna, numeric_only, \u001b[38;5;241m*\u001b[39m\u001b[38;5;241m*\u001b[39mkwargs\n\u001b[0;32m  12433\u001b[0m     )\n",
      "File \u001b[1;32mc:\\Users\\wangkan\\anaconda3\\Lib\\site-packages\\pandas\\core\\generic.py:12377\u001b[0m, in \u001b[0;36mNDFrame._stat_function\u001b[1;34m(self, name, func, axis, skipna, numeric_only, **kwargs)\u001b[0m\n\u001b[0;32m  12375\u001b[0m validate_bool_kwarg(skipna, \u001b[38;5;124m\"\u001b[39m\u001b[38;5;124mskipna\u001b[39m\u001b[38;5;124m\"\u001b[39m, none_allowed\u001b[38;5;241m=\u001b[39m\u001b[38;5;28;01mFalse\u001b[39;00m)\n\u001b[1;32m> 12377\u001b[0m \u001b[38;5;28;01mreturn\u001b[39;00m \u001b[38;5;28mself\u001b[39m\u001b[38;5;241m.\u001b[39m_reduce(\n\u001b[0;32m  12378\u001b[0m     func, name\u001b[38;5;241m=\u001b[39mname, axis\u001b[38;5;241m=\u001b[39maxis, skipna\u001b[38;5;241m=\u001b[39mskipna, numeric_only\u001b[38;5;241m=\u001b[39mnumeric_only\n\u001b[0;32m  12379\u001b[0m )\n",
      "File \u001b[1;32mc:\\Users\\wangkan\\anaconda3\\Lib\\site-packages\\pandas\\core\\series.py:6457\u001b[0m, in \u001b[0;36mSeries._reduce\u001b[1;34m(self, op, name, axis, skipna, numeric_only, filter_type, **kwds)\u001b[0m\n\u001b[0;32m   6453\u001b[0m     \u001b[38;5;28;01mraise\u001b[39;00m \u001b[38;5;167;01mTypeError\u001b[39;00m(\n\u001b[0;32m   6454\u001b[0m         \u001b[38;5;124mf\u001b[39m\u001b[38;5;124m\"\u001b[39m\u001b[38;5;124mSeries.\u001b[39m\u001b[38;5;132;01m{\u001b[39;00mname\u001b[38;5;132;01m}\u001b[39;00m\u001b[38;5;124m does not allow \u001b[39m\u001b[38;5;132;01m{\u001b[39;00mkwd_name\u001b[38;5;132;01m}\u001b[39;00m\u001b[38;5;124m=\u001b[39m\u001b[38;5;132;01m{\u001b[39;00mnumeric_only\u001b[38;5;132;01m}\u001b[39;00m\u001b[38;5;124m \u001b[39m\u001b[38;5;124m\"\u001b[39m\n\u001b[0;32m   6455\u001b[0m         \u001b[38;5;124m\"\u001b[39m\u001b[38;5;124mwith non-numeric dtypes.\u001b[39m\u001b[38;5;124m\"\u001b[39m\n\u001b[0;32m   6456\u001b[0m     )\n\u001b[1;32m-> 6457\u001b[0m \u001b[38;5;28;01mreturn\u001b[39;00m op(delegate, skipna\u001b[38;5;241m=\u001b[39mskipna, \u001b[38;5;241m*\u001b[39m\u001b[38;5;241m*\u001b[39mkwds)\n",
      "File \u001b[1;32mc:\\Users\\wangkan\\anaconda3\\Lib\\site-packages\\pandas\\core\\nanops.py:147\u001b[0m, in \u001b[0;36mbottleneck_switch.__call__.<locals>.f\u001b[1;34m(values, axis, skipna, **kwds)\u001b[0m\n\u001b[0;32m    146\u001b[0m \u001b[38;5;28;01melse\u001b[39;00m:\n\u001b[1;32m--> 147\u001b[0m     result \u001b[38;5;241m=\u001b[39m alt(values, axis\u001b[38;5;241m=\u001b[39maxis, skipna\u001b[38;5;241m=\u001b[39mskipna, \u001b[38;5;241m*\u001b[39m\u001b[38;5;241m*\u001b[39mkwds)\n\u001b[0;32m    149\u001b[0m \u001b[38;5;28;01mreturn\u001b[39;00m result\n",
      "File \u001b[1;32mc:\\Users\\wangkan\\anaconda3\\Lib\\site-packages\\pandas\\core\\nanops.py:787\u001b[0m, in \u001b[0;36mnanmedian\u001b[1;34m(values, axis, skipna, mask)\u001b[0m\n\u001b[0;32m    786\u001b[0m     \u001b[38;5;28;01mif\u001b[39;00m inferred \u001b[38;5;129;01min\u001b[39;00m [\u001b[38;5;124m\"\u001b[39m\u001b[38;5;124mstring\u001b[39m\u001b[38;5;124m\"\u001b[39m, \u001b[38;5;124m\"\u001b[39m\u001b[38;5;124mmixed\u001b[39m\u001b[38;5;124m\"\u001b[39m]:\n\u001b[1;32m--> 787\u001b[0m         \u001b[38;5;28;01mraise\u001b[39;00m \u001b[38;5;167;01mTypeError\u001b[39;00m(\u001b[38;5;124mf\u001b[39m\u001b[38;5;124m\"\u001b[39m\u001b[38;5;124mCannot convert \u001b[39m\u001b[38;5;132;01m{\u001b[39;00mvalues\u001b[38;5;132;01m}\u001b[39;00m\u001b[38;5;124m to numeric\u001b[39m\u001b[38;5;124m\"\u001b[39m)\n\u001b[0;32m    788\u001b[0m \u001b[38;5;28;01mtry\u001b[39;00m:\n",
      "\u001b[1;31mTypeError\u001b[0m: Cannot convert ['Cumings, Mrs. John Bradley (Florence Briggs Thayer)'\n 'Futrelle, Mrs. Jacques Heath (Lily May Peel)' 'McCarthy, Mr. Timothy J'\n 'Bonnell, Miss. Elizabeth' 'Sloper, Mr. William Thompson'\n 'Fortune, Mr. Charles Alexander' 'Uruchurtu, Don. Manuel E'\n 'Spencer, Mrs. William Augustus (Marie Eugenie)'\n 'Meyer, Mr. Edgar Joseph' 'Holverson, Mr. Alexander Oskar'\n 'Harper, Mrs. Henry Sleeper (Myna Haxtun)'\n 'Ostby, Mr. Engelhart Cornelius' 'Woolner, Mr. Hugh'\n 'Icard, Miss. Amelie' 'Harris, Mr. Henry Birkhardt'\n 'Stewart, Mr. Albert A' 'Carrau, Mr. Francisco M'\n 'Fortune, Miss. Mabel Helen' 'Chaffee, Mr. Herbert Fuller'\n 'Goldschmidt, Mr. George B' 'Greenfield, Mr. William Bertram'\n 'White, Mr. Richard Frasar' 'Porter, Mr. Walter Chamberlain'\n 'Baxter, Mr. Quigg Edmond' 'White, Mr. Percival Wayland'\n 'Newsom, Miss. Helen Monypeny' 'Futrelle, Mr. Jacques Heath'\n 'Giglio, Mr. Victor' 'Pears, Mrs. Thomas (Edith Wearne)'\n 'Williams, Mr. Charles Duane' 'Chibnall, Mrs. (Edith Martha Bowerman)'\n 'Baumann, Mr. John D' '卯月' 'Smith, Mr. James Clinch'\n 'Isham, Miss. Ann Elizabeth' 'Rood, Mr. Hugh Roscoe'\n 'Romaine, Mr. Charles Hallace (\"Mr C Rolmane\")'\n 'Brown, Mrs. James Joseph (Margaret Tobin)' 'Lurette, Miss. Elise'\n 'Blank, Mr. Henry' 'Newell, Miss. Madeleine' 'Bazzani, Miss. Albina'\n 'Hoyt, Mr. Frederick Maxfield'\n 'Harris, Mrs. Henry Birkhardt (Irene Wallach)'\n 'Minahan, Dr. William Edward' 'Beckwith, Mr. Richard Leonard'\n 'Stead, Mr. William Thomas' 'Thorne, Mrs. Gertrude Maybelle'\n 'Cherry, Miss. Gladys' 'Ward, Miss. Anna' 'Taussig, Mr. Emil'\n 'Harrison, Mr. William' 'Graham, Mrs. William Thompson (Edith Junkins)'\n 'Bissette, Miss. Amelia' 'Cairns, Mr. Alexander' nan\n 'Andrews, Miss. Kornelia Theodosia' 'Smith, Mr. Richard William'\n 'Barber, Miss. Ellen \"Nellie\"' 'Bishop, Mrs. Dickinson H (Helen Walton)'\n 'Lewy, Mr. Ervin G' 'Allison, Miss. Helen Loraine'\n 'Saalfeld, Mr. Adolphe' 'Baxter, Mrs. James (Helene DeLaudeniere Chaput)'\n 'Allison, Master. Hudson Trevor' 'Fleming, Miss. Margaret'\n 'Penasco y Castellana, Mrs. Victor de Satode (Maria Josefa Perez de Soto y Vallejo)'\n 'Francatelli, Miss. Laura Mabel' 'Hays, Miss. Margaret Bechstein'\n 'Ryerson, Miss. Emily Borie' 'Wick, Miss. Mary Natalie'\n 'Spedden, Mrs. Frederic Oakley (Margaretta Corning Stone)'\n 'Young, Miss. Marie Grice' 'Hippach, Miss. Jean Gertrude'\n 'Partner, Mr. Austen' 'Graham, Mr. George Edward'\n 'Frauenthal, Mrs. Henry William (Clara Heinsheimer)'\n 'Pears, Mr. Thomas Clinton' 'Burns, Miss. Elizabeth Margaret'\n 'Blackwell, Mr. Stephen Weart' 'Fortune, Miss. Alice Elizabeth'\n 'Williams-Lambert, Mr. Fletcher Fellows' 'Bowerman, Miss. Elsie Edith'\n 'Warren, Mrs. Frank Manley (Anna Sophia Atkinson)'\n 'Aubart, Mme. Leontine Pauline' 'Harder, Mr. George Achilles'\n 'Ringhini, Mr. Sante' 'Meyer, Mrs. Edgar Joseph (Leila Saks)'\n 'Widener, Mr. Harry Elkins' 'Bidois, Miss. Rosalie'\n 'Holverson, Mrs. Alexander Oskar (Mary Aline Towner)'\n 'Carter, Mr. William Ernest' 'Newell, Miss. Marjorie'\n 'Minahan, Miss. Daisy E' 'Bjornstrom-Steffansson, Mr. Mauritz Hakan'\n 'Silvey, Mr. William Baird' 'Carter, Miss. Lucile Polk'\n 'Fortune, Mr. Mark' 'Dodge, Master. Washington'\n 'Seward, Mr. Frederic Kimber' 'Peuchen, Major. Arthur Godfrey'\n 'Foreman, Mr. Benjamin Laventall' 'Goldenberg, Mr. Samuel L'\n 'Millet, Mr. Francis Davis' 'Kenyon, Mrs. Frederick R (Marion)'\n 'Anderson, Mr. Harry' 'Gee, Mr. Arthur H' 'Smart, Mr. John Montgomery'\n 'Clifford, Mr. George Quincy' 'Bishop, Mr. Dickinson H'\n 'Hoyt, Mrs. Frederick Maxfield (Jane Anne Forby)'\n 'Kent, Mr. Edward Austin' 'Molson, Mr. Harry Markland'\n 'Artagaveytia, Mr. Ramon' 'Eustis, Miss. Elizabeth Mussey'\n 'Allison, Mrs. Hudson J C (Bessie Waldo Daniels)' 'Maioni, Miss. Roberta'\n 'Penasco y Castellana, Mr. Victor de Satode'\n 'Bradley, Mr. George (\"George Arthur Brayton\")'\n 'McGough, Mr. James Robert'\n 'Rothschild, Mrs. Martin (Elizabeth L. Barrett)'\n 'Walker, Mr. William Anderson' 'Perreault, Miss. Anne'\n 'Hippach, Mrs. Louis Albert (Ida Sophia Fischer)' 'Farthing, Mr. John'\n 'Butt, Major. Archibald Willingham' 'LeRoy, Miss. Bertha'\n 'Frolicher, Miss. Hedwig Margaritha' 'Crosby, Miss. Harriet R'\n 'Douglas, Mr. Walter Donald' 'Nicholson, Mr. Arthur Ernest'\n 'Thayer, Mr. John Borland Jr' 'Wright, Mr. George'\n 'Duff Gordon, Lady. (Lucille Christiana Sutherland) (\"Mrs Morgan\")'\n 'Robbins, Mr. Victor' 'Taussig, Mrs. Emil (Tillie Mandelbaum)'\n 'Appleton, Mrs. Edward Dale (Charlotte Lamson)'\n 'Flynn, Mr. John Irwin (\"Irving\")'\n 'Silvey, Mrs. William Baird (Alice Munger)'\n 'Thayer, Mrs. John Borland (Marian Longstreth Morris)'\n 'Ross, Mr. John Hugo' 'Taussig, Miss. Ruth'\n 'Frolicher-Stehli, Mr. Maxmillian'\n 'Stephenson, Mrs. Walter Bertram (Martha Eustis)'\n 'Duff Gordon, Sir. Cosmo Edmund (\"Mr Morgan\")'\n 'Harrington, Mr. Charles H' 'Homer, Mr. Harry (\"Mr E Haven\")'\n 'Daniel, Mr. Robert Williams' 'Shutes, Miss. Elizabeth W'\n 'Kimball, Mr. Edwin Nelson Jr' 'Sutton, Mr. Frederick'\n 'Longley, Miss. Gretchen Fiske' 'Barkworth, Mr. Algernon Henry Wilson'\n 'Stahelin-Maeglin, Dr. Max' 'Parr, Mr. William Henry Marsh'\n 'Sagesser, Mlle. Emma' 'Harper, Mr. Henry Sleeper'\n 'Simonius-Blumer, Col. Oberst Alfons' 'Newell, Mr. Arthur Webster'\n 'Frauenthal, Dr. Henry William' 'Colley, Mr. Edward Pomeroy'\n 'Taylor, Mrs. Elmer Zebley (Juliet Cummins Wright)'\n 'Davidson, Mr. Thornton' 'Cardeza, Mr. Thomas Drake Martinez'\n 'Hassab, Mr. Hammad' 'Madill, Miss. Georgette Alexandra'\n 'Dick, Mr. Albert Adrian' 'Weir, Col. John' 'Thayer, Mr. John Borland'\n 'Astor, Mrs. John Jacob (Madeleine Talmadge Force)'\n 'Silverthorne, Mr. Spencer Victor' 'Calderhead, Mr. Edward Pennington'\n 'Cleaver, Miss. Alice' 'Mayne, Mlle. Berthe Antonine (\"Mrs de Villiers\")'\n 'Klaber, Mr. Herman' 'Taylor, Mr. Elmer Zebley'\n 'Endres, Miss. Caroline Louise' 'Chambers, Mr. Norman Campbell'\n 'Allen, Miss. Elisabeth Walton' 'Lesurer, Mr. Gustave J'\n 'Hawksford, Mr. Walter James' 'Cavendish, Mr. Tyrell William'\n 'Ryerson, Miss. Susan Parker \"Suzette\"' 'Crosby, Capt. Edward Gifford'\n 'Marvin, Mr. Daniel Warner' nan\n 'Carter, Mrs. William Ernest (Lucile Polk)'\n 'Hogeboom, Mrs. John C (Anna Andrews)' 'Brewe, Dr. Arthur Jackson'\n 'Robert, Mrs. Edward Scott (Elisabeth Walton McMillan)'\n 'Dick, Mrs. Albert Adrian (Vera Gillespie)' nan\n 'Guggenheim, Mr. Benjamin' 'Hoyt, Mr. William Fisher'\n 'Leader, Dr. Alice (Farnham)' 'Carter, Master. William Thornton II'\n 'Andrews, Mr. Thomas Jr' 'Chambers, Mrs. Norman Campbell (Bertha Griggs)'\n 'Fry, Mr. Richard' 'Hays, Mrs. Charles Melville (Clara Jennings Gregg)'\n 'Reuchlin, Jonkheer. John George'\n 'Stone, Mrs. George Nelson (Martha Evelyn)' 'Compton, Miss. Sara Rebecca'\n 'Marechal, Mr. Pierre' 'Serepeca, Miss. Augusta'\n 'Goldenberg, Mrs. Samuel L (Edwiga Grabowska)'\n 'Lines, Miss. Mary Conover' 'Wick, Mrs. George Dennick (Mary Hitchcock)'\n 'Daly, Mr. Peter Denis '\n 'Swift, Mrs. Frederick Joel (Margaret Welles Barron)'\n 'Roebling, Mr. Washington Augustus II'\n 'Beckwith, Mrs. Richard Leonard (Sallie Monypeny)'\n 'Carlsson, Mr. Frans Olof'\n 'Potter, Mrs. Thomas Jr (Lily Alexenia Wilson)'\n 'Graham, Miss. Margaret Edith' 'Behr, Mr. Karl Howell'\n 'Maioni, Miss. Roberta' 'Behr, Mr. Karl Howell'\n 'Foreman, Mr. Benjamin Laventall'\n 'Rothes, the Countess. of (Lucy Noel Martha Dyer-Edwards)'\n 'Harper, Mrs. Henry Sleeper (Myna Haxtun)'] to numeric",
      "\nThe above exception was the direct cause of the following exception:\n",
      "\u001b[1;31mTypeError\u001b[0m                                 Traceback (most recent call last)",
      "Cell \u001b[1;32mIn[24], line 7\u001b[0m\n\u001b[0;32m      4\u001b[0m datas_pd\u001b[38;5;241m.\u001b[39mloc[datas_pd\u001b[38;5;241m.\u001b[39mloc[:,\u001b[38;5;124m'\u001b[39m\u001b[38;5;124mPclass\u001b[39m\u001b[38;5;124m'\u001b[39m]\u001b[38;5;241m==\u001b[39m\u001b[38;5;124m'\u001b[39m\u001b[38;5;124m卯月\u001b[39m\u001b[38;5;124m'\u001b[39m,\u001b[38;5;124m'\u001b[39m\u001b[38;5;124mPclass\u001b[39m\u001b[38;5;124m'\u001b[39m]\u001b[38;5;241m=\u001b[39m\u001b[38;5;124m'\u001b[39m\u001b[38;5;124m2.0\u001b[39m\u001b[38;5;124m'\u001b[39m\n\u001b[0;32m      6\u001b[0m \u001b[38;5;66;03m# 查看是否还有异常值\u001b[39;00m\n\u001b[1;32m----> 7\u001b[0m datas_pd\u001b[38;5;241m.\u001b[39mgroupby(by\u001b[38;5;241m=\u001b[39m\u001b[38;5;124m'\u001b[39m\u001b[38;5;124mPclass\u001b[39m\u001b[38;5;124m'\u001b[39m)\u001b[38;5;241m.\u001b[39mmedian()\n",
      "File \u001b[1;32mc:\\Users\\wangkan\\anaconda3\\Lib\\site-packages\\pandas\\core\\groupby\\groupby.py:2532\u001b[0m, in \u001b[0;36mGroupBy.median\u001b[1;34m(self, numeric_only)\u001b[0m\n\u001b[0;32m   2459\u001b[0m \u001b[38;5;129m@final\u001b[39m\n\u001b[0;32m   2460\u001b[0m \u001b[38;5;28;01mdef\u001b[39;00m \u001b[38;5;21mmedian\u001b[39m(\u001b[38;5;28mself\u001b[39m, numeric_only: \u001b[38;5;28mbool\u001b[39m \u001b[38;5;241m=\u001b[39m \u001b[38;5;28;01mFalse\u001b[39;00m) \u001b[38;5;241m-\u001b[39m\u001b[38;5;241m>\u001b[39m NDFrameT:\n\u001b[0;32m   2461\u001b[0m \u001b[38;5;250m    \u001b[39m\u001b[38;5;124;03m\"\"\"\u001b[39;00m\n\u001b[0;32m   2462\u001b[0m \u001b[38;5;124;03m    Compute median of groups, excluding missing values.\u001b[39;00m\n\u001b[0;32m   2463\u001b[0m \n\u001b[1;32m   (...)\u001b[0m\n\u001b[0;32m   2530\u001b[0m \u001b[38;5;124;03m    Freq: MS, dtype: float64\u001b[39;00m\n\u001b[0;32m   2531\u001b[0m \u001b[38;5;124;03m    \"\"\"\u001b[39;00m\n\u001b[1;32m-> 2532\u001b[0m     result \u001b[38;5;241m=\u001b[39m \u001b[38;5;28mself\u001b[39m\u001b[38;5;241m.\u001b[39m_cython_agg_general(\n\u001b[0;32m   2533\u001b[0m         \u001b[38;5;124m\"\u001b[39m\u001b[38;5;124mmedian\u001b[39m\u001b[38;5;124m\"\u001b[39m,\n\u001b[0;32m   2534\u001b[0m         alt\u001b[38;5;241m=\u001b[39m\u001b[38;5;28;01mlambda\u001b[39;00m x: Series(x, copy\u001b[38;5;241m=\u001b[39m\u001b[38;5;28;01mFalse\u001b[39;00m)\u001b[38;5;241m.\u001b[39mmedian(numeric_only\u001b[38;5;241m=\u001b[39mnumeric_only),\n\u001b[0;32m   2535\u001b[0m         numeric_only\u001b[38;5;241m=\u001b[39mnumeric_only,\n\u001b[0;32m   2536\u001b[0m     )\n\u001b[0;32m   2537\u001b[0m     \u001b[38;5;28;01mreturn\u001b[39;00m result\u001b[38;5;241m.\u001b[39m__finalize__(\u001b[38;5;28mself\u001b[39m\u001b[38;5;241m.\u001b[39mobj, method\u001b[38;5;241m=\u001b[39m\u001b[38;5;124m\"\u001b[39m\u001b[38;5;124mgroupby\u001b[39m\u001b[38;5;124m\"\u001b[39m)\n",
      "File \u001b[1;32mc:\\Users\\wangkan\\anaconda3\\Lib\\site-packages\\pandas\\core\\groupby\\groupby.py:1998\u001b[0m, in \u001b[0;36mGroupBy._cython_agg_general\u001b[1;34m(self, how, alt, numeric_only, min_count, **kwargs)\u001b[0m\n\u001b[0;32m   1995\u001b[0m     result \u001b[38;5;241m=\u001b[39m \u001b[38;5;28mself\u001b[39m\u001b[38;5;241m.\u001b[39m_agg_py_fallback(how, values, ndim\u001b[38;5;241m=\u001b[39mdata\u001b[38;5;241m.\u001b[39mndim, alt\u001b[38;5;241m=\u001b[39malt)\n\u001b[0;32m   1996\u001b[0m     \u001b[38;5;28;01mreturn\u001b[39;00m result\n\u001b[1;32m-> 1998\u001b[0m new_mgr \u001b[38;5;241m=\u001b[39m data\u001b[38;5;241m.\u001b[39mgrouped_reduce(array_func)\n\u001b[0;32m   1999\u001b[0m res \u001b[38;5;241m=\u001b[39m \u001b[38;5;28mself\u001b[39m\u001b[38;5;241m.\u001b[39m_wrap_agged_manager(new_mgr)\n\u001b[0;32m   2000\u001b[0m \u001b[38;5;28;01mif\u001b[39;00m how \u001b[38;5;129;01min\u001b[39;00m [\u001b[38;5;124m\"\u001b[39m\u001b[38;5;124midxmin\u001b[39m\u001b[38;5;124m\"\u001b[39m, \u001b[38;5;124m\"\u001b[39m\u001b[38;5;124midxmax\u001b[39m\u001b[38;5;124m\"\u001b[39m]:\n",
      "File \u001b[1;32mc:\\Users\\wangkan\\anaconda3\\Lib\\site-packages\\pandas\\core\\internals\\managers.py:1469\u001b[0m, in \u001b[0;36mBlockManager.grouped_reduce\u001b[1;34m(self, func)\u001b[0m\n\u001b[0;32m   1465\u001b[0m \u001b[38;5;28;01mif\u001b[39;00m blk\u001b[38;5;241m.\u001b[39mis_object:\n\u001b[0;32m   1466\u001b[0m     \u001b[38;5;66;03m# split on object-dtype blocks bc some columns may raise\u001b[39;00m\n\u001b[0;32m   1467\u001b[0m     \u001b[38;5;66;03m#  while others do not.\u001b[39;00m\n\u001b[0;32m   1468\u001b[0m     \u001b[38;5;28;01mfor\u001b[39;00m sb \u001b[38;5;129;01min\u001b[39;00m blk\u001b[38;5;241m.\u001b[39m_split():\n\u001b[1;32m-> 1469\u001b[0m         applied \u001b[38;5;241m=\u001b[39m sb\u001b[38;5;241m.\u001b[39mapply(func)\n\u001b[0;32m   1470\u001b[0m         result_blocks \u001b[38;5;241m=\u001b[39m extend_blocks(applied, result_blocks)\n\u001b[0;32m   1471\u001b[0m \u001b[38;5;28;01melse\u001b[39;00m:\n",
      "File \u001b[1;32mc:\\Users\\wangkan\\anaconda3\\Lib\\site-packages\\pandas\\core\\internals\\blocks.py:393\u001b[0m, in \u001b[0;36mBlock.apply\u001b[1;34m(self, func, **kwargs)\u001b[0m\n\u001b[0;32m    387\u001b[0m \u001b[38;5;129m@final\u001b[39m\n\u001b[0;32m    388\u001b[0m \u001b[38;5;28;01mdef\u001b[39;00m \u001b[38;5;21mapply\u001b[39m(\u001b[38;5;28mself\u001b[39m, func, \u001b[38;5;241m*\u001b[39m\u001b[38;5;241m*\u001b[39mkwargs) \u001b[38;5;241m-\u001b[39m\u001b[38;5;241m>\u001b[39m \u001b[38;5;28mlist\u001b[39m[Block]:\n\u001b[0;32m    389\u001b[0m \u001b[38;5;250m    \u001b[39m\u001b[38;5;124;03m\"\"\"\u001b[39;00m\n\u001b[0;32m    390\u001b[0m \u001b[38;5;124;03m    apply the function to my values; return a block if we are not\u001b[39;00m\n\u001b[0;32m    391\u001b[0m \u001b[38;5;124;03m    one\u001b[39;00m\n\u001b[0;32m    392\u001b[0m \u001b[38;5;124;03m    \"\"\"\u001b[39;00m\n\u001b[1;32m--> 393\u001b[0m     result \u001b[38;5;241m=\u001b[39m func(\u001b[38;5;28mself\u001b[39m\u001b[38;5;241m.\u001b[39mvalues, \u001b[38;5;241m*\u001b[39m\u001b[38;5;241m*\u001b[39mkwargs)\n\u001b[0;32m    395\u001b[0m     result \u001b[38;5;241m=\u001b[39m maybe_coerce_values(result)\n\u001b[0;32m    396\u001b[0m     \u001b[38;5;28;01mreturn\u001b[39;00m \u001b[38;5;28mself\u001b[39m\u001b[38;5;241m.\u001b[39m_split_op_result(result)\n",
      "File \u001b[1;32mc:\\Users\\wangkan\\anaconda3\\Lib\\site-packages\\pandas\\core\\groupby\\groupby.py:1995\u001b[0m, in \u001b[0;36mGroupBy._cython_agg_general.<locals>.array_func\u001b[1;34m(values)\u001b[0m\n\u001b[0;32m   1992\u001b[0m     \u001b[38;5;28;01mreturn\u001b[39;00m result\n\u001b[0;32m   1994\u001b[0m \u001b[38;5;28;01massert\u001b[39;00m alt \u001b[38;5;129;01mis\u001b[39;00m \u001b[38;5;129;01mnot\u001b[39;00m \u001b[38;5;28;01mNone\u001b[39;00m\n\u001b[1;32m-> 1995\u001b[0m result \u001b[38;5;241m=\u001b[39m \u001b[38;5;28mself\u001b[39m\u001b[38;5;241m.\u001b[39m_agg_py_fallback(how, values, ndim\u001b[38;5;241m=\u001b[39mdata\u001b[38;5;241m.\u001b[39mndim, alt\u001b[38;5;241m=\u001b[39malt)\n\u001b[0;32m   1996\u001b[0m \u001b[38;5;28;01mreturn\u001b[39;00m result\n",
      "File \u001b[1;32mc:\\Users\\wangkan\\anaconda3\\Lib\\site-packages\\pandas\\core\\groupby\\groupby.py:1946\u001b[0m, in \u001b[0;36mGroupBy._agg_py_fallback\u001b[1;34m(self, how, values, ndim, alt)\u001b[0m\n\u001b[0;32m   1944\u001b[0m     msg \u001b[38;5;241m=\u001b[39m \u001b[38;5;124mf\u001b[39m\u001b[38;5;124m\"\u001b[39m\u001b[38;5;124magg function failed [how->\u001b[39m\u001b[38;5;132;01m{\u001b[39;00mhow\u001b[38;5;132;01m}\u001b[39;00m\u001b[38;5;124m,dtype->\u001b[39m\u001b[38;5;132;01m{\u001b[39;00mser\u001b[38;5;241m.\u001b[39mdtype\u001b[38;5;132;01m}\u001b[39;00m\u001b[38;5;124m]\u001b[39m\u001b[38;5;124m\"\u001b[39m\n\u001b[0;32m   1945\u001b[0m     \u001b[38;5;66;03m# preserve the kind of exception that raised\u001b[39;00m\n\u001b[1;32m-> 1946\u001b[0m     \u001b[38;5;28;01mraise\u001b[39;00m \u001b[38;5;28mtype\u001b[39m(err)(msg) \u001b[38;5;28;01mfrom\u001b[39;00m \u001b[38;5;21;01merr\u001b[39;00m\n\u001b[0;32m   1948\u001b[0m \u001b[38;5;28;01mif\u001b[39;00m ser\u001b[38;5;241m.\u001b[39mdtype \u001b[38;5;241m==\u001b[39m \u001b[38;5;28mobject\u001b[39m:\n\u001b[0;32m   1949\u001b[0m     res_values \u001b[38;5;241m=\u001b[39m res_values\u001b[38;5;241m.\u001b[39mastype(\u001b[38;5;28mobject\u001b[39m, copy\u001b[38;5;241m=\u001b[39m\u001b[38;5;28;01mFalse\u001b[39;00m)\n",
      "\u001b[1;31mTypeError\u001b[0m: agg function failed [how->median,dtype->object]"
     ]
    }
   ],
   "source": [
    "# 异常值处理\n",
    "datas_pd.loc[datas_pd.loc[:,'Pclass']=='1e-07','Pclass']='2.0'\n",
    "datas_pd.loc[datas_pd.loc[:,'Pclass']=='99999999','Pclass']='2.0'\n",
    "datas_pd.loc[datas_pd.loc[:,'Pclass']=='卯月','Pclass']='2.0'\n",
    "\n",
    "# 查看是否还有异常值\n",
    "datas_pd.groupby(by='Pclass').median()"
   ]
  }
 ],
 "metadata": {
  "kernelspec": {
   "display_name": "base",
   "language": "python",
   "name": "python3"
  },
  "language_info": {
   "codemirror_mode": {
    "name": "ipython",
    "version": 3
   },
   "file_extension": ".py",
   "mimetype": "text/x-python",
   "name": "python",
   "nbconvert_exporter": "python",
   "pygments_lexer": "ipython3",
   "version": "3.12.4"
  }
 },
 "nbformat": 4,
 "nbformat_minor": 2
}
