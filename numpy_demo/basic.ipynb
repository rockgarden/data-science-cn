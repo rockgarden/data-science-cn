{
 "cells": [
  {
   "cell_type": "code",
   "execution_count": 3,
   "metadata": {},
   "outputs": [],
   "source": [
    "import numpy as np"
   ]
  },
  {
   "cell_type": "markdown",
   "metadata": {},
   "source": [
    "# 数组"
   ]
  },
  {
   "cell_type": "code",
   "execution_count": 4,
   "metadata": {},
   "outputs": [
    {
     "name": "stdout",
     "output_type": "stream",
     "text": [
      "[-9.  7.  4.  3.]\n"
     ]
    },
    {
     "data": {
      "text/plain": [
       "array([[ 2,  3,  4,  5],\n",
       "       [ 6,  7,  8,  9],\n",
       "       [10, 11, 12, 13]])"
      ]
     },
     "execution_count": 4,
     "metadata": {},
     "output_type": "execute_result"
    }
   ],
   "source": [
    "arr1 = np.array([-9,7,4,3])\n",
    "arr1\n",
    "arr2 = np.array([-9,7,4,3],dtype =float)\n",
    "print(arr2)\n",
    "arr3 = np.array([[1,2,3,4],[5,6,7,8],[9,10,11,12]])\n",
    "arr3\n",
    "# 使用其他函数创建数组\n",
    "np.arange(0,10,1)   \n",
    "np.linspace(1,10,10)\n",
    "np.zeros([4,5])\n",
    "np.ones([2,3])\n",
    "# 矩阵运算\n",
    "arr3 + 1"
   ]
  },
  {
   "cell_type": "code",
   "execution_count": null,
   "metadata": {},
   "outputs": [
    {
     "data": {
      "text/plain": [
       "np.float64(4.5)"
      ]
     },
     "execution_count": 5,
     "metadata": {},
     "output_type": "execute_result"
    }
   ],
   "source": [
    "# 查看数组维度\n",
    "arr3.ndim \n",
    "arr3.shape\n",
    "arr3.size\n",
    "arr3.dtype\n",
    "arr3 + 1\n",
    "# 矩阵运算\n",
    "arr3 /2\n",
    "data2 = ((8.5,6,4.1,2,0.7),(1.5,3,5.4,7.3,9),(3.2,4.5,6,3,9),(11.2,13.4,15.6,17.8,19))\n",
    "arr2 = np.array(data2)\n",
    "arr2\n",
    "arr2[2] # 访问第三行，可以理解为行索引\n",
    "arr2[2,1]   # 访问第三行，可以理解为行索引\n",
    "arr2[:,2:4] # 访问第三列\n",
    "arr2[1:3]   # 2行和3行\n",
    "arr2[1:,2:] # 第2行到最后一行，第3列到最后一列\n",
    "arr2[2,1]   # 访问第三行，第二个元素,第一个是行索引，第二个是列索引\n",
    "arr2[2][1]  # 访问第三行，第二个元素,第一个是行索引，第二个是列索引"
   ]
  },
  {
   "cell_type": "code",
   "execution_count": null,
   "metadata": {},
   "outputs": [],
   "source": [
    "# 降序建议用sorted函数\n",
    "s  = np.array([1,2,3,4,3,1,2,2,4,6,7,2,4,8,4,5])\n",
    "np.sort(s)\n",
    "sorted(s,reverse =True)\n",
    "arr1 = np.array([[0,1,3],[4,2,9],[4,5,9],[1,-3,4]])\n",
    "arr1\n",
    "np.sort(arr1)\n",
    "np.sort(arr1,axis = 0)  # 0代表沿着行的方向， 1代表沿着列的方向\n",
    "np.sort(arr1,axis = 1)\n",
    "# argsort返回的是排完序以后，在原数据中的索引位置，返回的是数据中，从小到大的索引值\n",
    "s = np.array([1,2,3,4,3,1,2,2,4,6,7,2,4,8,4,5])\n",
    "np.argsort(s) \n",
    "np.where和np.extract\n",
    "np.where(s>3,1,-1)  # 满足条件的，赋值为3，不满足的赋值为-1，返回的数据长度和s一样\n",
    "np.extract\n",
    "np.extract(s>3,s)   # 只输出满足条件的数据"
   ]
  },
  {
   "cell_type": "code",
   "execution_count": null,
   "metadata": {},
   "outputs": [],
   "source": [
    "s  = np.array([1,2,3,4,3,1,2,2,4,6,7,2,4,8,4,5])\n",
    "np.sort(s)\n",
    "sorted(s,reverse =True)#降序\n",
    "arr1 = np.array([[0,1,3],[4,2,9],[4,5,9],[1,-3,4]])\n",
    "arr1\n",
    "np.sort(arr1)\n",
    "np.sort(arr1,axis = 0) # 0代表沿着行的方向， 1代表沿着列的方向\n",
    "np.sort(arr1,axis = 1)\n",
    "argsort返回的是排完序以后，在原数据中的索引位置\n",
    "返回的是数据中,从小到大的索引值\n",
    "s = np.array([1,2,3,4,3,1,2,2,4,6,7,2,4,8,4,5])\n",
    "np.argsort(s) \n",
    "np.where和np.extract\n",
    "np.where(s>3,1,-1)# 满足条件的，赋值为3，不满足的赋值为-1，返回的数据长度和s一样\n",
    "np.extract 只会输出满足条件的数据\n",
    "np.extract(s>3,s)# 只输出满足条件的数据"
   ]
  }
 ],
 "metadata": {
  "kernelspec": {
   "display_name": "base",
   "language": "python",
   "name": "python3"
  },
  "language_info": {
   "codemirror_mode": {
    "name": "ipython",
    "version": 3
   },
   "file_extension": ".py",
   "mimetype": "text/x-python",
   "name": "python",
   "nbconvert_exporter": "python",
   "pygments_lexer": "ipython3",
   "version": "3.9.20"
  }
 },
 "nbformat": 4,
 "nbformat_minor": 2
}
