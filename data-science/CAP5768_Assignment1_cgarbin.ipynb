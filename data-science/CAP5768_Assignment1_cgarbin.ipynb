{
 "cells": [
  {
   "cell_type": "markdown",
   "metadata": {
    "colab_type": "text",
    "id": "p78j872pOKTZ"
   },
   "source": [
    "# CAP 5768 - Data Science - Dr. Marques - Fall 2019\n",
    "\n",
    "Christian Garbin"
   ]
  },
  {
   "cell_type": "markdown",
   "metadata": {
    "colab_type": "text",
    "id": "NYmNMHGLOKTa"
   },
   "source": [
    "# Assignment 1: The Python data science stack "
   ]
  },
  {
   "cell_type": "markdown",
   "metadata": {
    "colab_type": "text",
    "id": "9UMnsRndOKTb",
    "tags": []
   },
   "source": [
    "### Goals \n",
    "\n",
    "- To get acquainted with Python and Jupyter notebooks.\n",
    "- To acquire a basic understanding of the Python \"data science stack\" (NumPy, Pandas, Matplotlib).\n",
    "- To have an early experience of manipulating, summarizing, and visualizing small datasets. \n",
    "- To demonstrate the ability to write Python code to answer questions and test hypotheses based on the contents of those datasets.\n"
   ]
  },
  {
   "cell_type": "markdown",
   "metadata": {
    "colab_type": "text",
    "id": "B0rEAT7MOKTb"
   },
   "source": [
    "### Instructions\n",
    "\n",
    "- This assignment is structured as a game, with three levels of increasing complexity.\n",
    "- For each level, there will be some Python code to be written and questions to be answered.\n",
    "- At the end, you should export your notebook to PDF format; it will \"automagically\" become your report.\n",
    "- Submit the report (PDF), notebook (.ipynb file), and (optionally) link to the \"live\" version of your solution on Google Colaboratory via Canvas.\n",
    "- The total number of points is 320 (plus up to 44 bonus points), distributed as follows: Level 1 (82 pts), Level 2 (70+ pts), Level 3 (132+ pts) and Conclusions (36 pts)."
   ]
  },
  {
   "cell_type": "markdown",
   "metadata": {
    "colab_type": "text",
    "id": "qiufouQn6OD9"
   },
   "source": [
    "### Important\n",
    "\n",
    "- It is OK to attempt the bonus points, but please **do not overdo it!** \n",
    "- Remember: this is an early exercise in exploring datasets; learning the syntax and \"tricks\" of Python, Jupyter notebooks, Numpy, Pandas, and Matplotlib; and writing code to test simple hypotheses and produce answers to simple questions that **you know you should be able to answer** because the answer can be pulled from the data.\n",
    "- This is not (yet) the time to do sophisticated statistical analysis, train ML models, etc. "
   ]
  },
  {
   "cell_type": "markdown",
   "metadata": {
    "colab_type": "text",
    "id": "ivz9CfpTOKTc"
   },
   "source": [
    "------------\n",
    "## Level 1: Presidents of the USA"
   ]
  },
  {
   "cell_type": "markdown",
   "metadata": {
    "colab_type": "text",
    "id": "F0XHAppiOKTc"
   },
   "source": [
    "The Python code below will load a dataset containing the names of the first 44 presidents of the USA and their heights, available in the file *president_heights.csv*, which is a simple comma-separated list of labels and values."
   ]
  },
  {
   "cell_type": "code",
   "execution_count": 2,
   "metadata": {},
   "outputs": [],
   "source": [
    "# Imports\n",
    "import numpy as np\n",
    "import pandas as pd\n",
    "from pandas import DataFrame, Series\n",
    "\n",
    "%matplotlib inline\n",
    "import matplotlib.pyplot as plt\n",
    "import seaborn as sns\n",
    "\n",
    "from scipy.stats import pearsonr"
   ]
  },
  {
   "cell_type": "code",
   "execution_count": 3,
   "metadata": {
    "colab": {
     "base_uri": "https://localhost:8080/",
     "height": 1000
    },
    "colab_type": "code",
    "id": "7IhX_GLmOKTd",
    "outputId": "db182542-cd14-4362-ea81-93e862cbb32b",
    "scrolled": true
   },
   "outputs": [
    {
     "data": {
      "text/html": [
       "<div>\n",
       "<style scoped>\n",
       "    .dataframe tbody tr th:only-of-type {\n",
       "        vertical-align: middle;\n",
       "    }\n",
       "\n",
       "    .dataframe tbody tr th {\n",
       "        vertical-align: top;\n",
       "    }\n",
       "\n",
       "    .dataframe thead th {\n",
       "        text-align: right;\n",
       "    }\n",
       "</style>\n",
       "<table border=\"1\" class=\"dataframe\">\n",
       "  <thead>\n",
       "    <tr style=\"text-align: right;\">\n",
       "      <th></th>\n",
       "      <th>order</th>\n",
       "      <th>name</th>\n",
       "      <th>height(cm)</th>\n",
       "    </tr>\n",
       "  </thead>\n",
       "  <tbody>\n",
       "    <tr>\n",
       "      <th>0</th>\n",
       "      <td>1</td>\n",
       "      <td>George Washington</td>\n",
       "      <td>189</td>\n",
       "    </tr>\n",
       "    <tr>\n",
       "      <th>1</th>\n",
       "      <td>2</td>\n",
       "      <td>John Adams</td>\n",
       "      <td>170</td>\n",
       "    </tr>\n",
       "    <tr>\n",
       "      <th>2</th>\n",
       "      <td>3</td>\n",
       "      <td>Thomas Jefferson</td>\n",
       "      <td>189</td>\n",
       "    </tr>\n",
       "    <tr>\n",
       "      <th>3</th>\n",
       "      <td>4</td>\n",
       "      <td>James Madison</td>\n",
       "      <td>163</td>\n",
       "    </tr>\n",
       "    <tr>\n",
       "      <th>4</th>\n",
       "      <td>5</td>\n",
       "      <td>James Monroe</td>\n",
       "      <td>183</td>\n",
       "    </tr>\n",
       "  </tbody>\n",
       "</table>\n",
       "</div>"
      ],
      "text/plain": [
       "   order               name  height(cm)\n",
       "0      1  George Washington         189\n",
       "1      2         John Adams         170\n",
       "2      3   Thomas Jefferson         189\n",
       "3      4      James Madison         163\n",
       "4      5       James Monroe         183"
      ]
     },
     "execution_count": 3,
     "metadata": {},
     "output_type": "execute_result"
    }
   ],
   "source": [
    "file = \"data/president_heights.csv\"\n",
    "presidents = pd.read_csv(file)\n",
    "presidents.head()"
   ]
  },
  {
   "cell_type": "code",
   "execution_count": null,
   "metadata": {},
   "outputs": [],
   "source": [
    "presidents.dtypes"
   ]
  },
  {
   "cell_type": "markdown",
   "metadata": {
    "colab_type": "text",
    "id": "Sf9JB_ntOKTg"
   },
   "source": [
    "## Your turn! (8 points)\n",
    "\n",
    "Write code to display the histogram (4 pts) of president's heights and compute summary statistics (4 pts): \n",
    "\n",
    "- Mean height\n",
    "- Standard deviation\n",
    "- Minimum height, and \n",
    "- Maximum height."
   ]
  },
  {
   "cell_type": "markdown",
   "metadata": {
    "colab_type": "text",
    "id": "tdOZPjis7Phf"
   },
   "source": [
    "## Solution"
   ]
  },
  {
   "cell_type": "code",
   "execution_count": 5,
   "metadata": {},
   "outputs": [],
   "source": [
    "# To make life a bit simpler and consistent\n",
    "p = presidents\n",
    "HEIGHT = \"height(cm)\""
   ]
  },
  {
   "cell_type": "code",
   "execution_count": null,
   "metadata": {},
   "outputs": [],
   "source": [
    "plt.hist(p[HEIGHT], color=\"lightgrey\", rwidth=0.9)\n",
    "plt.title(\"Distribution of Heights\")\n",
    "plt.xlabel(\"Height\")\n",
    "plt.ylabel(\"Number of Presidents\")\n",
    "plt.show()"
   ]
  },
  {
   "cell_type": "code",
   "execution_count": null,
   "metadata": {
    "colab": {},
    "colab_type": "code",
    "id": "BQkN1WvQOKTi"
   },
   "outputs": [],
   "source": [
    "print(\"Mean height:        {:6.2f} cm\".format(p[HEIGHT].mean()))\n",
    "print(\"Standard deviation: {:6.2f} cm\".format(p[HEIGHT].std()))\n",
    "print(\"Minimum height:        {} cm\".format(p[HEIGHT].min()))\n",
    "print(\"Maximum height:        {} cm\".format(p[HEIGHT].max()))"
   ]
  },
  {
   "cell_type": "markdown",
   "metadata": {
    "colab_type": "text",
    "id": "BbUZtqu7OKTl"
   },
   "source": [
    "## Your turn! (18 points)\n",
    "\n",
    "Write Python code to answer the following questions (make sure the messages displayed by your code are complete and descriptive enough):\n",
    "\n",
    "1. Who was(were) the tallest president(s)?\n",
    "2. Who was(were) the shortest president(s)?\n",
    "3. How many presidents were 6' tall or taller?"
   ]
  },
  {
   "cell_type": "markdown",
   "metadata": {
    "colab_type": "text",
    "id": "eWDwcuiz7Wiz"
   },
   "source": [
    "## Solution"
   ]
  },
  {
   "cell_type": "code",
   "execution_count": 6,
   "metadata": {
    "colab": {},
    "colab_type": "code",
    "id": "ZZqA7kEWOKTl"
   },
   "outputs": [
    {
     "name": "stdout",
     "output_type": "stream",
     "text": [
      "\n",
      "Tallest president(s):  Abraham Lincoln, Lyndon B. Johnson\n",
      "\n",
      "Shortest president(s): James Madison\n",
      "\n",
      "Presidents >= 6':      George Washington, Thomas Jefferson, James Monroe, Andrew Jackson, John Tyler, James Buchanan, Abraham Lincoln, James A. Garfield, Chester A. Arthur, Warren G. Harding, Franklin D. Roosevelt, John F. Kennedy, Lyndon B. Johnson, Gerald Ford, Ronald Reagan, George H. W. Bush, Bill Clinton, Barack Obama\n"
     ]
    }
   ],
   "source": [
    "def president_names(p):\n",
    "    return \", \".join(str(x) for x in p[\"name\"])\n",
    "print(\n",
    "    \"\\nTallest president(s):  {}\".format(\n",
    "        president_names(p[p[HEIGHT] == p[HEIGHT].max()])\n",
    "    )\n",
    ")\n",
    "print(\n",
    "    \"\\nShortest president(s): {}\".format(\n",
    "        president_names(p[p[HEIGHT] == p[HEIGHT].min()])\n",
    "    )\n",
    ")\n",
    "print(\"\\nPresidents >= 6':      {}\".format(president_names(p[p[HEIGHT] >= 6 * 30.48])))"
   ]
  },
  {
   "cell_type": "markdown",
   "metadata": {
    "colab_type": "text",
    "id": "YNr4O_tHOKTn"
   },
   "source": [
    "-------------\n",
    "\n",
    "This is an extremely small, simple and manageable dataset. \n",
    "\n",
    "Let's use it to prove a silly hypotheses, for example: \n",
    "\n",
    "\"H1: Even-numbered presidents are, in average, taller than odd-numbered ones.\" "
   ]
  },
  {
   "cell_type": "markdown",
   "metadata": {
    "colab_type": "text",
    "id": "KurMrocpOKTo"
   },
   "source": [
    "## Your turn! (24 points)\n",
    "\n",
    "Write Python code to test hypothesis H1."
   ]
  },
  {
   "cell_type": "code",
   "execution_count": null,
   "metadata": {
    "colab": {},
    "colab_type": "code",
    "id": "A4QFk_ktOKTo"
   },
   "outputs": [],
   "source": [
    "even = (p[\"order\"] % 2) == 0\n",
    "mean_even = p[even][HEIGHT].mean()\n",
    "mean_odd = p[~even][HEIGHT].mean()\n",
    "\n",
    "print(\"Mean height of even-numbered presidents: {:.2f} cm\".format(mean_even))\n",
    "print(\"Mean height of odd-numbered presidents:  {:.2f} cm\".format(mean_odd))\n",
    "\n",
    "even_taller = mean_even > mean_odd\n",
    "print(\"Even-numbered presidents are {}\".format(\"taller\" if even_taller else \"shorter\"))\n",
    "print(\"H1 is {}\".format(even_taller))"
   ]
  },
  {
   "cell_type": "markdown",
   "metadata": {
    "colab_type": "text",
    "id": "TTEVu2FjOKTq"
   },
   "source": [
    "## Question 1 (4 points)\n",
    "\n",
    "Was hypothesis H1 confirmed or refuted?"
   ]
  },
  {
   "cell_type": "markdown",
   "metadata": {
    "colab_type": "text",
    "id": "dv-bu9a77Zit"
   },
   "source": [
    "## Solution"
   ]
  },
  {
   "cell_type": "markdown",
   "metadata": {
    "colab_type": "text",
    "id": "eOLyQdlcOKTq"
   },
   "source": [
    "H1 was refuted."
   ]
  },
  {
   "cell_type": "markdown",
   "metadata": {
    "colab_type": "text",
    "id": "KsQUHbQXOKTt"
   },
   "source": [
    "---------------------\n",
    "\n",
    "Now it's time for you to come up with a different (but also silly) hypotheses, which we will call H2. **Be creative!**"
   ]
  },
  {
   "cell_type": "markdown",
   "metadata": {},
   "source": [
    "H2: The Bushes, in average, are taller than the Roosevelts."
   ]
  },
  {
   "cell_type": "markdown",
   "metadata": {
    "colab_type": "text",
    "id": "IDUa4m4hOKTu"
   },
   "source": [
    "## Your turn! (28 points)\n",
    "\n",
    "Write Python code to test hypothesis H2 (and some text to explain whether it was confirmed or not)."
   ]
  },
  {
   "cell_type": "markdown",
   "metadata": {
    "colab_type": "text",
    "id": "X2zRCH0R7bG1"
   },
   "source": [
    "## Solution"
   ]
  },
  {
   "cell_type": "code",
   "execution_count": null,
   "metadata": {
    "colab": {},
    "colab_type": "code",
    "id": "IfCLnKp-OKTv"
   },
   "outputs": [],
   "source": [
    "bushes = p[\"name\"].str.endswith(\"Bush\")\n",
    "roosevelts = p[\"name\"].str.endswith(\"Roosevelt\")\n",
    "\n",
    "bushes_mean = p[bushes][HEIGHT].mean()\n",
    "roosevelts_mean = p[roosevelts][HEIGHT].mean()\n",
    "\n",
    "print(\n",
    "    \"Mean height of Bushes ({}): {:.2f}\".format(president_names(p[bushes]), bushes_mean)\n",
    ")\n",
    "print(\n",
    "    \"Mean height of Roosevelts ({}): {:.2f}\".format(\n",
    "        president_names(p[roosevelts]), roosevelts_mean\n",
    "    )\n",
    ")\n",
    "\n",
    "bushes_taller = bushes_mean > roosevelts_mean\n",
    "print(\"Bush presidents are {}\".format(\"taller\" if bushes_taller else \"shorter\"))\n",
    "print(\"H2 is {}\".format(bushes_taller))"
   ]
  },
  {
   "cell_type": "markdown",
   "metadata": {},
   "source": [
    "H2 is confirmed"
   ]
  },
  {
   "cell_type": "markdown",
   "metadata": {
    "colab_type": "text",
    "id": "G2J9o001OKTx"
   },
   "source": [
    "-------------------\n",
    "## Level 2: HR payroll"
   ]
  },
  {
   "cell_type": "markdown",
   "metadata": {
    "colab_type": "text",
    "id": "T1EXw38-OKTy"
   },
   "source": [
    "The Python code below will load a dataset containing the salaries and demographic data of more than 1000 employees of a hypothetical company, available in the file *salaries.csv*, which is a simple comma-separated list of labels and values."
   ]
  },
  {
   "cell_type": "code",
   "execution_count": null,
   "metadata": {
    "colab": {
     "base_uri": "https://localhost:8080/",
     "height": 153
    },
    "colab_type": "code",
    "id": "lv1MGinjOKTz",
    "outputId": "41985ef6-75b7-4a23-89d3-0067c285f6e8"
   },
   "outputs": [],
   "source": [
    "salaries = pd.read_csv(\"data/salaries.csv\")\n",
    "print(salaries.shape)\n",
    "print(salaries.count())"
   ]
  },
  {
   "cell_type": "markdown",
   "metadata": {
    "colab_type": "text",
    "id": "wxwNfCp1OKT2"
   },
   "source": [
    "## Question 2 (6 points)\n",
    "\n",
    "What is the meaning of each of the six variables/features stored along the columns of the dataset?"
   ]
  },
  {
   "cell_type": "markdown",
   "metadata": {
    "colab_type": "text",
    "id": "eJtlMdhL7cKa"
   },
   "source": [
    "## Solution"
   ]
  },
  {
   "cell_type": "markdown",
   "metadata": {
    "colab_type": "text",
    "id": "QWu0f6VwOKT3"
   },
   "source": [
    "(ENTER YOUR ANSWER HERE)"
   ]
  },
  {
   "cell_type": "markdown",
   "metadata": {},
   "source": [
    "Some data exploration first, to understand the columns."
   ]
  },
  {
   "cell_type": "code",
   "execution_count": null,
   "metadata": {},
   "outputs": [],
   "source": [
    "print(salaries.dtypes)\n",
    "display(salaries.head(5))"
   ]
  },
  {
   "cell_type": "markdown",
   "metadata": {},
   "source": [
    "* `earn`: yearly salary or total compensation (unclear) in US dollars (guess, based on the numbers)\n",
    "* `height`: person's height in inches (apparently converted from another unit, because of the precision)\n",
    "* `sex`: person's genre\n",
    "* `ed`: years of education completed\n",
    "* `age`: age in full years\n",
    "* `race`: person's race"
   ]
  },
  {
   "cell_type": "markdown",
   "metadata": {
    "colab_type": "text",
    "id": "-bvyTbsZOKT4"
   },
   "source": [
    "--------------------\n",
    "\n",
    "Let's explore the dataset by plotting some graphs and displaying summary statistics. \n",
    "\n",
    "The code below should display:\n",
    "- Min, max, average, and median salary (global)\n",
    "- A histogram of salaries\n",
    "- A scatterplot correlating salaries and years of education\n",
    "- The (Pearson) correlation coefficient between the two variables.\n",
    "\n",
    "This should help us get started."
   ]
  },
  {
   "cell_type": "code",
   "execution_count": null,
   "metadata": {
    "colab": {
     "base_uri": "https://localhost:8080/",
     "height": 102
    },
    "colab_type": "code",
    "id": "jai0zaQ1OKT5",
    "outputId": "8dc89377-1293-4211-d637-19a84e426389"
   },
   "outputs": [],
   "source": [
    "salary = np.array(salaries[\"earn\"])\n",
    "print(\"Salary statistics\")\n",
    "print(\"Minimum salary (global):\", np.min(salary))\n",
    "print(\"Maximum salary (global):\", np.max(salary))\n",
    "print(\"Average salary (global):\", np.mean(salary))\n",
    "print(\"Median  salary (global):\", np.median(salary))"
   ]
  },
  {
   "cell_type": "code",
   "execution_count": null,
   "metadata": {
    "colab": {
     "base_uri": "https://localhost:8080/",
     "height": 301
    },
    "colab_type": "code",
    "id": "MQSn8R8MOKT6",
    "outputId": "5d1caaa5-c74c-43df-ba49-40710e7fd06d"
   },
   "outputs": [],
   "source": [
    "plt.hist(salary)\n",
    "plt.title(\"Salary Distribution\")\n",
    "plt.xlabel(\"Salary\")\n",
    "plt.ylabel(\"Number of Employees\");"
   ]
  },
  {
   "cell_type": "code",
   "execution_count": null,
   "metadata": {
    "colab": {
     "base_uri": "https://localhost:8080/",
     "height": 301
    },
    "colab_type": "code",
    "id": "DIcrOnZ4OKT8",
    "outputId": "24f5093a-336c-4a43-abb7-7a52b7aa14be"
   },
   "outputs": [],
   "source": [
    "years = np.array(salaries[\"ed\"])\n",
    "plt.title(\"Salary vs. Education Level\")\n",
    "plt.xlabel(\"Salary\")\n",
    "plt.ylabel(\"Years of education\")\n",
    "plt.scatter(salary, years, alpha=0.5)\n",
    "plt.show()"
   ]
  },
  {
   "cell_type": "code",
   "execution_count": null,
   "metadata": {
    "colab": {
     "base_uri": "https://localhost:8080/",
     "height": 34
    },
    "colab_type": "code",
    "id": "fllJH1rfOKT_",
    "outputId": "4370e450-b503-4231-9d2c-c5efad8f289f"
   },
   "outputs": [],
   "source": [
    "# Compute Pearson coefficient\n",
    "from scipy.stats import pearsonr\n",
    "\n",
    "corr, _ = pearsonr(salary, years)\n",
    "print(\"Correlation coefficient: \", corr)"
   ]
  },
  {
   "cell_type": "markdown",
   "metadata": {
    "colab_type": "text",
    "id": "-n2_sL4UOKUA"
   },
   "source": [
    "The Pearson correlation coefficient (a value between -1 and 1) can be used to summarize the strength of the linear relationship between two data samples.\n",
    "\n",
    "A simplified way to interpret the result is:\n",
    "- A value of 0 means no correlation\n",
    "- Values below -0.5 or above 0.5 indicates a notable (negative/positive) correlation"
   ]
  },
  {
   "cell_type": "markdown",
   "metadata": {
    "colab_type": "text",
    "id": "oVXf-zPyOKUB"
   },
   "source": [
    "## Your turn! (16+ points)\n",
    "\n",
    "Write code to:\n",
    "\n",
    "1. Display the total headcount and the number (and %) of male and female employees. (4 pts)\n",
    "2. Compute and display the min, max, average, and median salary *per gender*. (12 pts)\n",
    "3. (OPTIONAL) Plot meaningful graphs that could provide insight into the gender inequality (*if any is present*) associated with the salaries in the company. (<= 16 bonus points)\n"
   ]
  },
  {
   "cell_type": "markdown",
   "metadata": {
    "colab_type": "text",
    "id": "s9c3LqKO7fBz"
   },
   "source": [
    "## Solution"
   ]
  },
  {
   "cell_type": "markdown",
   "metadata": {},
   "source": [
    "### 1. Total headcount, number and % by genre"
   ]
  },
  {
   "cell_type": "code",
   "execution_count": null,
   "metadata": {
    "colab": {},
    "colab_type": "code",
    "id": "xGq2LhvGOKUP"
   },
   "outputs": [],
   "source": [
    "female = salaries[\"sex\"] == \"female\"\n",
    "male = ~female  # shorthand and avoids bugs\n",
    "\n",
    "count_females = len(salaries[female])\n",
    "count_males = len(salaries[male])\n",
    "count_all = len(salaries)\n",
    "assert (count_females + count_males) == count_all\n",
    "\n",
    "print(\n",
    "    \"Out of {} employees, there are {} ({:.2f}%) females and {} ({:.2f}%) males\".format(\n",
    "        count_all,\n",
    "        count_females,\n",
    "        count_females / count_all * 100,\n",
    "        count_males,\n",
    "        count_males / count_all * 100,\n",
    "    )\n",
    ")"
   ]
  },
  {
   "cell_type": "markdown",
   "metadata": {},
   "source": [
    "### 2. Min. max, average and median salary per gender"
   ]
  },
  {
   "cell_type": "code",
   "execution_count": null,
   "metadata": {},
   "outputs": [],
   "source": [
    "def print_salary_stats(genre_name, genre_filter):\n",
    "    print(\"\\nSalary stats for {} employees\".format(genre_name))\n",
    "\n",
    "    s = salaries[genre_filter][\"earn\"]\n",
    "    print(\"Minimum salary: {:7,.0f}\".format(s.min()))\n",
    "    print(\"Maximum salary: {:7,.0f}\".format(s.max()))\n",
    "    print(\"Average salary: {:7,.0f}\".format(s.mean()))\n",
    "    print(\"Median  salary: {:7,.0f}\".format(s.median()))\n",
    "\n",
    "\n",
    "print_salary_stats(\"female\", female)\n",
    "print_salary_stats(\"male\", male)"
   ]
  },
  {
   "cell_type": "markdown",
   "metadata": {},
   "source": [
    "### 3. Graphs for insights into gender inequality"
   ]
  },
  {
   "cell_type": "markdown",
   "metadata": {},
   "source": [
    "As a general rule, we should expect salary to be correlated to years of education (and other factors - but we don't have those in this data set).\n",
    "\n",
    "The graph below plots the salaries by year of education, split by genre."
   ]
  },
  {
   "cell_type": "code",
   "execution_count": null,
   "metadata": {},
   "outputs": [],
   "source": [
    "sns.boxplot(data=salaries, x=\"ed\", y=\"earn\", hue=\"sex\")"
   ]
  },
  {
   "cell_type": "markdown",
   "metadata": {},
   "source": [
    "The average salary for males is consistently higher than the average salary for females in all levels of education (some more than others). Moreover, the upper quartile is also higher.\n",
    "\n",
    "Putting it together, there are signs of sexism in the salaries. However, we are missing other important variables, such as years of experience. This graph should be used as a starting point for more data collection, not for a conclusion (just yet)."
   ]
  },
  {
   "cell_type": "markdown",
   "metadata": {},
   "source": [
    "Since we don't have years of experience in this dataset, we will use age as a proxy for now."
   ]
  },
  {
   "cell_type": "markdown",
   "metadata": {},
   "source": [
    "First will will group the ages into groups of ten years each."
   ]
  },
  {
   "cell_type": "code",
   "execution_count": null,
   "metadata": {},
   "outputs": [],
   "source": [
    "salaries[\"agegroup\"] = pd.cut(\n",
    "    x=salaries[\"age\"], bins=[19, 29, 39, 49, 59, 69, 79, 89, 99]\n",
    ")"
   ]
  },
  {
   "cell_type": "markdown",
   "metadata": {},
   "source": [
    "Then we will bin the salaries as preparation for a histogram chart. The number of bins is somewhat arbitrary. The intention is to have enough bins to see a disribution. The upper range was adjusted by hand, to avoid outliers that would compress the graph."
   ]
  },
  {
   "cell_type": "code",
   "execution_count": null,
   "metadata": {},
   "outputs": [],
   "source": [
    "bins = np.linspace(np.min(salaries[\"earn\"]), 100000, 50)"
   ]
  },
  {
   "cell_type": "markdown",
   "metadata": {},
   "source": [
    "Now we can graph the age groups by genre, side-by-side to compare them."
   ]
  },
  {
   "cell_type": "code",
   "execution_count": null,
   "metadata": {},
   "outputs": [],
   "source": [
    "g = sns.FacetGrid(salaries, col=\"sex\", row=\"agegroup\")\n",
    "g.fig.set_figheight(15)\n",
    "g.fig.set_figwidth(10)\n",
    "g.map(plt.hist, \"earn\", bins=bins, color=\"grey\")"
   ]
  },
  {
   "cell_type": "markdown",
   "metadata": {},
   "source": [
    "Although the number of samples in each category is small to be conclusive, the graphs show that female salaries are skewed towards lower values in each age group. It is more pronounced in the prime earning ages of 29 to 59.\n",
    "\n",
    "This is not yet conclusive because age is only a proxy for work experience. Not everyone of the same age has the same work experience and that likely affects females more, since they usually carry the burden of child rearing by staying at home for a few years (and that, in itself, is also sexism, but of a societal degree now, not only work related)."
   ]
  },
  {
   "cell_type": "markdown",
   "metadata": {
    "colab_type": "text",
    "id": "34cWPF_jOKUQ"
   },
   "source": [
    "--------------------\n",
    "\n",
    "As you can possibly tell by now, this dataset may help us test hypotheses and answer questions related to possible sources of inequality associated with the salary distribution: gender, age, race, height. \n",
    "\n",
    "Let's assume, for the sake of argument, that the number of years of education should correlate well with a person's salary (this is clearly a weak argument and the plot and Pearson correlation coefficient computation above suggests that this is *not* the case) and that other suspiciously high (positive or negative) correlations could be interpreted as a sign of inequality."
   ]
  },
  {
   "cell_type": "markdown",
   "metadata": {
    "colab_type": "text",
    "id": "R1UaYIHoOKUR"
   },
   "source": [
    "---------------------\n",
    "\n",
    "At this point, formulate 3 different hypotheses that might suggest that the salary distribution is biased by factors such as ageism. \n",
    "\n",
    "Call these hypotheses H3, H4, and H5. \n",
    "\n",
    "**Be creative, but realistic! These should be reasonable hypotheses, not silly ones!**"
   ]
  },
  {
   "cell_type": "markdown",
   "metadata": {
    "colab_type": "text",
    "id": "n8odBiXoOKUR"
   },
   "source": [
    "## Your turn! (48+ points)\n",
    "\n",
    "Write Python code to test hypotheses H3, H4, and H5 (and some text to explain whether they were confirmed or not). Feel free to (also) use plots, but make your code independent of a human being interpreting those plots. (16 pts per hypothesis with additional <= 8 bonus points per hypotheses).  "
   ]
  },
  {
   "cell_type": "markdown",
   "metadata": {
    "colab_type": "text",
    "id": "tmUifCzY7gjz"
   },
   "source": [
    "## Solution"
   ]
  },
  {
   "cell_type": "markdown",
   "metadata": {},
   "source": [
    "### H3 Ageism: older employees are paid less"
   ]
  },
  {
   "cell_type": "markdown",
   "metadata": {},
   "source": [
    "The hypothesis is that older employees are paid less.\n",
    "\n",
    "A somewhat arbitrary \"older than 50 years of age\" was used as the cutoff to declare someone \"old\" for this exercise.\n",
    "\n",
    "NOTE: we are assuming years of education should be an indication of salary level."
   ]
  },
  {
   "cell_type": "markdown",
   "metadata": {},
   "source": [
    "Step 1: add a column that defines who is \"old\" for this analsys. This will simplify the remainder of the code."
   ]
  },
  {
   "cell_type": "code",
   "execution_count": null,
   "metadata": {},
   "outputs": [],
   "source": [
    "# change this line to use a different cutoff\n",
    "salaries[\"old\"] = salaries[\"age\"] > 50"
   ]
  },
  {
   "cell_type": "markdown",
   "metadata": {},
   "source": [
    "Step 2: check the presence of a correlation between \"old\" and salary."
   ]
  },
  {
   "cell_type": "code",
   "execution_count": null,
   "metadata": {},
   "outputs": [],
   "source": [
    "corr, _ = pearsonr(salaries[\"earn\"], salaries[\"old\"])\n",
    "print(\"Correlation coefficient: \", corr)"
   ]
  },
  {
   "cell_type": "markdown",
   "metadata": {},
   "source": [
    "This results in a very small negative correlation, almost neglible."
   ]
  },
  {
   "cell_type": "markdown",
   "metadata": {},
   "source": [
    "A quick check on other variables:"
   ]
  },
  {
   "cell_type": "code",
   "execution_count": null,
   "metadata": {},
   "outputs": [],
   "source": [
    "salaries.groupby(\"old\").mean(numeric_only=True)"
   ]
  },
  {
   "cell_type": "markdown",
   "metadata": {},
   "source": [
    "Nothing seems to jump out in other variables that could point to ageism."
   ]
  },
  {
   "cell_type": "markdown",
   "metadata": {},
   "source": [
    "**Conclusion**: with the (somewhat arbritary) cutoff age of 50, the available data does not indicate age discrimination."
   ]
  },
  {
   "cell_type": "markdown",
   "metadata": {},
   "source": [
    "### H4 Gender bias: females are paid less"
   ]
  },
  {
   "cell_type": "markdown",
   "metadata": {},
   "source": [
    "The hypothesis is that female employees are paid less. This is similar to the graph analysis done in the previouos section, but now we will do it with numbers only.\n",
    "\n",
    "NOTE: we are assuming years of education should be an indication of salary level."
   ]
  },
  {
   "cell_type": "markdown",
   "metadata": {},
   "source": [
    "Step 1: check the presence of a correlation between genre and salary.\n",
    "\n",
    "Because genre is categorical, we cannot directly calculate a correlation coefficient with `pearsonr`. We will first convert the categories into ordinals (it works here because we have only two categories)."
   ]
  },
  {
   "cell_type": "code",
   "execution_count": null,
   "metadata": {},
   "outputs": [],
   "source": [
    "salaries[\"sex_number\"] = (salaries[\"sex\"] == \"female\").astype(int)\n",
    "\n",
    "corr, _ = pearsonr(salaries[\"earn\"], salaries[\"sex_number\"])\n",
    "print(\"Correlation coefficient: \", corr)"
   ]
  },
  {
   "cell_type": "markdown",
   "metadata": {},
   "source": [
    "This results in a moderate correlation (see [table 1](https://www.ncbi.nlm.nih.gov/pmc/articles/PMC6107969/)) between genre and salary, with female earning less."
   ]
  },
  {
   "cell_type": "markdown",
   "metadata": {},
   "source": [
    "A quick check on other variables:"
   ]
  },
  {
   "cell_type": "code",
   "execution_count": null,
   "metadata": {},
   "outputs": [],
   "source": [
    "salaries.groupby(\"sex\").mean(numeric_only=True)"
   ]
  },
  {
   "cell_type": "markdown",
   "metadata": {},
   "source": [
    "The table shows that other variables are within the same range for male and female. Given that the average education level is essentially the same for both genres (we are assuming there should be a correlation between education and salary) and average age is also about the same, we can conclude that we have indications of genre discrimination."
   ]
  },
  {
   "cell_type": "markdown",
   "metadata": {},
   "source": [
    "**Conclusion**: the data we have indicate there may be genre discrimination. However, it's not a strong correlation. Based on this result, the next action would be to collect and analyze other important factors (for example years of experience, hours worked per month, etc.)."
   ]
  },
  {
   "cell_type": "markdown",
   "metadata": {},
   "source": [
    "### H5 Race bias: non-whites are paid less"
   ]
  },
  {
   "cell_type": "markdown",
   "metadata": {},
   "source": [
    "The hypothesis is that non-white employees are paid less.\n",
    "\n",
    "NOTE: we are assuming years of education should be an indication of salary level."
   ]
  },
  {
   "cell_type": "markdown",
   "metadata": {},
   "source": [
    "Step 1: add a column to split race in two group, white and non-white. It will be added as an ordinal to let us use Pearson correlation coefficient later."
   ]
  },
  {
   "cell_type": "code",
   "execution_count": null,
   "metadata": {},
   "outputs": [],
   "source": [
    "salaries[\"non-white\"] = (salaries[\"race\"] != \"white\").astype(int)"
   ]
  },
  {
   "cell_type": "markdown",
   "metadata": {},
   "source": [
    "Step 2: check the presence of a correlation between the new column and salary."
   ]
  },
  {
   "cell_type": "code",
   "execution_count": null,
   "metadata": {},
   "outputs": [],
   "source": [
    "corr, _ = pearsonr(salaries[\"earn\"], salaries[\"non-white\"])\n",
    "print(\"Correlation coefficient: \", corr)"
   ]
  },
  {
   "cell_type": "markdown",
   "metadata": {},
   "source": [
    "This results is a neglible correlation (see [table 1](https://www.ncbi.nlm.nih.gov/pmc/articles/PMC6107969/))."
   ]
  },
  {
   "cell_type": "markdown",
   "metadata": {},
   "source": [
    "A quick check on other variables:"
   ]
  },
  {
   "cell_type": "code",
   "execution_count": null,
   "metadata": {},
   "outputs": [],
   "source": [
    "salaries.groupby(\"non-white\").mean(numeric_only=True)"
   ]
  },
  {
   "cell_type": "markdown",
   "metadata": {},
   "source": [
    "Nothing seems to jump out in other variables that could point to discrimination."
   ]
  },
  {
   "cell_type": "markdown",
   "metadata": {},
   "source": [
    "**Conclusion**: the available data does not indicate race discrimination."
   ]
  },
  {
   "cell_type": "markdown",
   "metadata": {
    "colab_type": "text",
    "id": "fiXV2xUI7lUZ"
   },
   "source": [
    "-------------------\n",
    "## Level 3: Fuel consumption"
   ]
  },
  {
   "cell_type": "markdown",
   "metadata": {
    "colab_type": "text",
    "id": "0EDk6NGk8YsH"
   },
   "source": [
    "The Python code below will load a dataset containing fuel consumption data for ~400 vehicles produced in the 1970s and the 1980s along with some characteristic information associated with each model. \n",
    "\n",
    "Here, *displacement* refers to a vehicle's engine size and the fuel efficiency is measured in miles per gallon (mpg).\n",
    "\n",
    "See:\n",
    "https://archive.ics.uci.edu/ml/datasets/Auto+MPG for additional information."
   ]
  },
  {
   "cell_type": "code",
   "execution_count": null,
   "metadata": {
    "colab": {
     "base_uri": "https://localhost:8080/",
     "height": 34
    },
    "colab_type": "code",
    "id": "4dkSabDG5gjc",
    "outputId": "3c3cdd00-171e-4e91-9bcc-67f79eceeb70"
   },
   "outputs": [],
   "source": [
    "sns.set(style=\"ticks\", palette=\"Set2\")\n",
    "%matplotlib inline"
   ]
  },
  {
   "cell_type": "code",
   "execution_count": null,
   "metadata": {},
   "outputs": [],
   "source": [
    "# Check if we have in the local cache first\n",
    "import os.path\n",
    "\n",
    "mpg_location = \"data/auto-mpg.data-original\"\n",
    "if not os.path.isfile(mpg_location):\n",
    "    mpg_location = \"http://archive.ics.uci.edu/ml/machine-learning-databases/auto-mpg/auto-mpg.data-original\"\n",
    "\n",
    "data = pd.read_csv(\n",
    "    mpg_location,\n",
    "    delim_whitespace=True,\n",
    "    header=None,\n",
    "    names=[\n",
    "        \"mpg\",\n",
    "        \"cylinders\",\n",
    "        \"displacement\",\n",
    "        \"horsepower\",\n",
    "        \"weight\",\n",
    "        \"acceleration\",\n",
    "        \"model\",\n",
    "        \"origin\",\n",
    "        \"car_name\",\n",
    "    ],\n",
    ")\n",
    "print(data.shape)"
   ]
  },
  {
   "cell_type": "code",
   "execution_count": null,
   "metadata": {
    "colab": {
     "base_uri": "https://localhost:8080/",
     "height": 204
    },
    "colab_type": "code",
    "id": "WVNr-0SxD7Ai",
    "outputId": "c94ffa72-a01b-45b8-eb19-5b16b60f2798"
   },
   "outputs": [],
   "source": [
    "data.dropna(inplace=True)\n",
    "data.head()"
   ]
  },
  {
   "cell_type": "markdown",
   "metadata": {
    "colab_type": "text",
    "id": "QtjTzR09-PyS"
   },
   "source": [
    "## Question 3 (6 points)\n",
    "\n",
    "What was the net effect of the line of code\n",
    "\n",
    "``data.dropna(inplace=True)``?"
   ]
  },
  {
   "cell_type": "markdown",
   "metadata": {
    "colab_type": "text",
    "id": "RRG5lAHB-PyV"
   },
   "source": [
    "## Solution"
   ]
  },
  {
   "cell_type": "code",
   "execution_count": null,
   "metadata": {},
   "outputs": [],
   "source": [
    "data.shape"
   ]
  },
  {
   "cell_type": "markdown",
   "metadata": {},
   "source": [
    "Fourteen rows were removed from the dataframe, no column was removed. The removed rows are the ones that have missing data, as defined [in the Pandas documentation](https://pandas.pydata.org/pandas-docs/stable/user_guide/missing_data.html#missing-data)."
   ]
  },
  {
   "cell_type": "markdown",
   "metadata": {
    "colab_type": "text",
    "id": "MArizMt0_P1A"
   },
   "source": [
    "## Your turn! (18+ points)\n",
    "\n",
    "Write code to:\n",
    "\n",
    "1. Count the number of 3- and 5-cylinder vehicles in the dataset, display the count, and discard those entries (rows). (12 pts)\n",
    "2. Compute and display the min, max, and average fuel consumption (in mpg) for 4-, 6-, and 8-cylinder vehicles. (6 pts)\n",
    "3. (OPTIONAL) Display the name of the most and least fuel efficient vehicles in the dataset (<= 4 points)\n"
   ]
  },
  {
   "cell_type": "markdown",
   "metadata": {
    "colab_type": "text",
    "id": "BTExQawjAIuU"
   },
   "source": [
    "## Solution"
   ]
  },
  {
   "cell_type": "markdown",
   "metadata": {},
   "source": [
    "### 1. Three- and five-cylinder cars"
   ]
  },
  {
   "cell_type": "code",
   "execution_count": null,
   "metadata": {
    "colab": {},
    "colab_type": "code",
    "id": "d4jcQfb2AIub"
   },
   "outputs": [],
   "source": [
    "three_cylinder = data[\"cylinders\"] == 3\n",
    "five_cylinder = data[\"cylinders\"] == 5\n",
    "\n",
    "print(\n",
    "    \"There are {} 3-cylinder and {} 5-cylinder cars\".format(\n",
    "        len(data[three_cylinder]), len(data[five_cylinder])\n",
    "    )\n",
    ")\n",
    "\n",
    "# Store in a new data set and check we aren't making a mistake with the filters\n",
    "cars = data[~(three_cylinder | five_cylinder)]\n",
    "assert (len(cars) + len(data[three_cylinder]) + len(data[five_cylinder])) == len(data)"
   ]
  },
  {
   "cell_type": "markdown",
   "metadata": {},
   "source": [
    "### 2. Min, max, average fuel consumption by number of cylinders"
   ]
  },
  {
   "cell_type": "code",
   "execution_count": null,
   "metadata": {},
   "outputs": [],
   "source": [
    "cars"
   ]
  },
  {
   "cell_type": "code",
   "execution_count": null,
   "metadata": {},
   "outputs": [],
   "source": [
    "c = cars[[\"cylinders\", \"mpg\"]].groupby(\"cylinders\")\n",
    "c.agg([np.min, np.max, np.mean])[\"mpg\"]"
   ]
  },
  {
   "cell_type": "markdown",
   "metadata": {},
   "source": [
    "### 3. Most and least fuel efficient vehicles"
   ]
  },
  {
   "cell_type": "code",
   "execution_count": null,
   "metadata": {},
   "outputs": [],
   "source": [
    "def car_names(p):\n",
    "    return \", \".join(str(x) for x in p[\"car_name\"])\n",
    "\n",
    "\n",
    "c = cars  # shorthand\n",
    "print(\n",
    "    \"Most fuel efficient car(s):   {}\".format(car_names(c[c[\"mpg\"] == c[\"mpg\"].max()]))\n",
    ")\n",
    "print(\n",
    "    \"Least fuel efficient car(s):  {}\".format(car_names(c[c[\"mpg\"] == c[\"mpg\"].min()]))\n",
    ")"
   ]
  },
  {
   "cell_type": "markdown",
   "metadata": {
    "colab_type": "text",
    "id": "KCU0fOaqAaIJ"
   },
   "source": [
    "--------------------\n",
    "\n",
    "This dataset may help us test hypotheses and answer questions related to fuel consumption. \n",
    "\n",
    "To get started: Which features of a vehicle correlate best with its mpg --  *displacement*, *weight*, or *horsepower*?"
   ]
  },
  {
   "cell_type": "markdown",
   "metadata": {
    "colab_type": "text",
    "id": "rzrD2ZFgAaIM"
   },
   "source": [
    "## Your turn! (48 points)\n",
    "\n",
    "Write Python code to plot the relationship between:\n",
    "\n",
    "1. Fuel consumption and displacement (engine size)\n",
    "2. Fuel consumption and weight\n",
    "3. Fuel consumption and horsepower (HP)\n"
   ]
  },
  {
   "cell_type": "markdown",
   "metadata": {
    "colab_type": "text",
    "id": "12jR1y-0AaIN"
   },
   "source": [
    "## Solution"
   ]
  },
  {
   "cell_type": "markdown",
   "metadata": {},
   "source": [
    "### 1. Fuel consumption and displacement relationship"
   ]
  },
  {
   "cell_type": "code",
   "execution_count": null,
   "metadata": {
    "colab": {},
    "colab_type": "code",
    "id": "MEXtqJIsAaIO"
   },
   "outputs": [],
   "source": [
    "sns.regplot(data=cars, x=\"displacement\", y=\"mpg\", scatter_kws={\"alpha\": 0.3})"
   ]
  },
  {
   "cell_type": "markdown",
   "metadata": {},
   "source": [
    "### 2. Fuel consumption and weight"
   ]
  },
  {
   "cell_type": "code",
   "execution_count": null,
   "metadata": {},
   "outputs": [],
   "source": [
    "sns.regplot(data=cars, x=\"weight\", y=\"mpg\", scatter_kws={\"alpha\": 0.3})"
   ]
  },
  {
   "cell_type": "markdown",
   "metadata": {},
   "source": [
    "### 3. Fuel consumption and horsepower (HP)"
   ]
  },
  {
   "cell_type": "code",
   "execution_count": null,
   "metadata": {},
   "outputs": [],
   "source": [
    "sns.regplot(data=cars, x=\"horsepower\", y=\"mpg\", scatter_kws={\"alpha\": 0.3})"
   ]
  },
  {
   "cell_type": "markdown",
   "metadata": {
    "colab_type": "text",
    "id": "_VPbGcGrFSEH"
   },
   "source": [
    "## Questions 4-6 (30 points, i.e. 10 points each)\n",
    "\n",
    "For each of the three cases above, use the plots to answer the questions below:\n",
    "\n",
    "4. Is there a correlation between mpg and displacement? If so: is it positive or negative? linear or non-linear?\n",
    "5. Is there a correlation between mpg and weight? If so: is it positive or negative? linear or non-linear?\n",
    "6. Is there a correlation between mpg and horsepower? If so: is it positive or negative? linear or non-linear?\n",
    "\n"
   ]
  },
  {
   "cell_type": "markdown",
   "metadata": {
    "colab_type": "text",
    "id": "lLqwEM9sDI0E"
   },
   "source": [
    "## Solution"
   ]
  },
  {
   "cell_type": "markdown",
   "metadata": {},
   "source": [
    "### 4. Is there a correlation between mpg and displacement? If so: is it positive or negative? linear or non-linear?"
   ]
  },
  {
   "cell_type": "markdown",
   "metadata": {},
   "source": [
    "Yes, there is a linear, negative correlation betwen mpg and displacement."
   ]
  },
  {
   "cell_type": "markdown",
   "metadata": {},
   "source": [
    "### 5. Is there a correlation between mpg and weight? If so: is it positive or negative? linear or non-linear?"
   ]
  },
  {
   "cell_type": "markdown",
   "metadata": {},
   "source": [
    "Yes, there is a linear, negative correlation betwen mpg and weight."
   ]
  },
  {
   "cell_type": "markdown",
   "metadata": {},
   "source": [
    "### 6. Is there a correlation between mpg and horsepower? If so: is it positive or negative? linear or non-linear?"
   ]
  },
  {
   "cell_type": "markdown",
   "metadata": {},
   "source": [
    "Yes, there is a linear, negative correlation betwen mpg and horsepower."
   ]
  },
  {
   "cell_type": "markdown",
   "metadata": {},
   "source": [
    "Although there are two indications that it may not be linear in all ranges:\n",
    "\n",
    "* As the horsepower increases (the right side of the regression line), the samples are far from the line. It's also visible in the larger confidence interval shown in that part of the line.\n",
    "* On the lower side of horsepower, using alpha in the graph shows that the samples tend to cluster above and below the linear regression line.\n",
    "\n",
    "The graph below uses a second-order polynomial fitting curve, which seems to model the data better.\n",
    "\n",
    "We need more data to be sure. With what we have, the best we can say is that for the most part the relationship is linear."
   ]
  },
  {
   "cell_type": "code",
   "execution_count": null,
   "metadata": {},
   "outputs": [],
   "source": [
    "sns.regplot(data=cars, x=\"horsepower\", y=\"mpg\", order=2, scatter_kws={\"alpha\": 0.3})"
   ]
  },
  {
   "cell_type": "markdown",
   "metadata": {
    "colab_type": "text",
    "id": "0n9yctP0CmC9"
   },
   "source": [
    "## Questions 7-8 (30 points, i.e. 15 points each)\n",
    "\n",
    "Write Python code to produce (box)plots that should provide good answers the questions below:\n",
    "\n",
    "7. Did vehicles get more efficient over the years (represented in this dataset, i.e., 1970 through 1982)?\n",
    "8. Are Japanese cars more fuel efficient than American or European ones?\n",
    "\n",
    "Hint: \n",
    "\n",
    "``data['Country_code'] = data.origin.replace([1,2,3],['USA','Europe','Japan'])``\n",
    "\n"
   ]
  },
  {
   "cell_type": "markdown",
   "metadata": {
    "colab_type": "text",
    "id": "fK18FNLpIRW9"
   },
   "source": [
    "## Solution"
   ]
  },
  {
   "cell_type": "markdown",
   "metadata": {},
   "source": [
    "### 7. Did vehicles get more efficient over the years (represented in this dataset, i.e., 1970 through 1982)?"
   ]
  },
  {
   "cell_type": "code",
   "execution_count": null,
   "metadata": {},
   "outputs": [],
   "source": [
    "sns.boxplot(data=cars, x=\"model\", y=\"mpg\", color=\"whitesmoke\")"
   ]
  },
  {
   "cell_type": "markdown",
   "metadata": {},
   "source": [
    "The plot shows that car did get more efficient over the years.\n",
    "\n",
    "Not only the average is (generally) going up, but the lower quartile(s) are going up as well. This results in even the least efficient cars in recent years being more efficient than the average car of past years."
   ]
  },
  {
   "cell_type": "markdown",
   "metadata": {},
   "source": [
    "### 8. Are Japanese cars more fuel efficient than American or European ones?"
   ]
  },
  {
   "cell_type": "code",
   "execution_count": null,
   "metadata": {},
   "outputs": [],
   "source": [
    "# Make a copy because we will change it (so far it's a view of the original dataframe)\n",
    "cars = cars.copy()\n",
    "cars[\"country\"] = data.origin.replace([1, 2, 3], [\"USA\", \"Europe\", \"Japan\"])"
   ]
  },
  {
   "cell_type": "code",
   "execution_count": null,
   "metadata": {},
   "outputs": [],
   "source": [
    "sns.boxplot(data=cars, x=\"country\", y=\"mpg\", color=\"whitesmoke\")"
   ]
  },
  {
   "cell_type": "markdown",
   "metadata": {},
   "source": [
    "Yes, Japanese cars are more efficient than American or European ones, when measured by average fuel consumption. They are also more efficient in general, as shown in the quartiles of the boxplot."
   ]
  },
  {
   "cell_type": "markdown",
   "metadata": {
    "colab_type": "text",
    "id": "GLi0m9uuKkpD"
   },
   "source": [
    "## Conclusions (36 points)\n",
    "\n",
    "Write your conclusions and make sure to address the issues below:\n",
    "- What have you learned from this assignment?\n",
    "- Which parts were the most fun, time-consuming, enlightening, tedious?\n",
    "- What would you do if you had an additional week to work on this?"
   ]
  },
  {
   "cell_type": "markdown",
   "metadata": {
    "colab_type": "text",
    "id": "tmRWLHo5K99F"
   },
   "source": [
    "## Solution"
   ]
  },
  {
   "cell_type": "markdown",
   "metadata": {},
   "source": [
    "### What have you learned from this assignment?"
   ]
  },
  {
   "cell_type": "markdown",
   "metadata": {},
   "source": [
    "Technical things I learned:\n",
    "\n",
    "* A better understanding of JupyterLab and its extensions. Found two extensions that made me more productive.\n",
    "* The details of NumPy/Pandas broadcast operations. It was black magic to me before that.\n",
    "* Experimented more with Pandas aggregation functions.\n",
    "* Learned how to create groups of data with `cut()`.\n",
    "\n",
    "Conceptual things I learned:\n",
    "\n",
    "* Strategies to compare multi-categorical data, such as plotting boxplots in the same graph and using multiple plots to compare categories within categories (e.g. by sex and age group).\n"
   ]
  },
  {
   "cell_type": "markdown",
   "metadata": {},
   "source": [
    "### Which parts were the most fun, time-consuming, enlightening, tedious?"
   ]
  },
  {
   "cell_type": "markdown",
   "metadata": {},
   "source": [
    "Fun:\n",
    "\n",
    "* Playing with different graph formats\n",
    "* Learning how to aggregrate data\n",
    "* Learning how to bin data\n",
    "* Play with colors and alpha in graphs :)\n",
    "\n",
    "Time-consuming\n",
    "\n",
    "* Multi-categorical plotting, but mainly because I decided to go that route\n",
    "\n",
    "Enlightening\n",
    "\n",
    "* The power of data aggregration in Pandas - how much can be done with one line of code\n",
    "\n",
    "Tedious\n",
    "\n",
    "* None"
   ]
  },
  {
   "cell_type": "markdown",
   "metadata": {},
   "source": [
    "### What would you do if you had an additional week to work on this?"
   ]
  },
  {
   "cell_type": "markdown",
   "metadata": {},
   "source": [
    "* Better format for the graphs, e.g. color scheme and size (some of them could be made larger), remove boxes around the graphs, etc.\n",
    "* Learn more techniques to compare multi-categorical data, like the salaries example, where we have two genres to compare and analyze across different variables.\n",
    "* Read the questions more carefully to understand _how_ we are supposed to answer them, saving me from submitting the assignment so many times to fix what I missed in a first reading :/"
   ]
  }
 ],
 "metadata": {
  "colab": {
   "collapsed_sections": [
    "Sf9JB_ntOKTg"
   ],
   "name": "CAP5768_Assignment1.ipynb",
   "provenance": [],
   "version": "0.3.2"
  },
  "kernelspec": {
   "display_name": "base",
   "language": "python",
   "name": "python3"
  },
  "language_info": {
   "codemirror_mode": {
    "name": "ipython",
    "version": 3
   },
   "file_extension": ".py",
   "mimetype": "text/x-python",
   "name": "python",
   "nbconvert_exporter": "python",
   "pygments_lexer": "ipython3",
   "version": "3.9.20"
  }
 },
 "nbformat": 4,
 "nbformat_minor": 4
}
