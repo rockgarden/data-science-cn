{
 "cells": [
  {
   "cell_type": "markdown",
   "metadata": {},
   "source": [
    "# K折交叉验证"
   ]
  },
  {
   "cell_type": "markdown",
   "metadata": {},
   "source": [
    "## 不分层抽样\n",
    "没有使用分层抽样，原始数据集、训练集和测试集中的阳性类比例在每个分拆集中的差异很大。"
   ]
  },
  {
   "cell_type": "code",
   "execution_count": 7,
   "metadata": {},
   "outputs": [
    {
     "name": "stdout",
     "output_type": "stream",
     "text": [
      "[SPLIT 1]\n",
      "Percentage of digit 9 in the original dataset: 9.92 %\n",
      "Percentage of digit 9 in the training set: 9.84 %\n",
      "Percentage of digit 9 in the test set: 10.07 %\n",
      "Accuracy: 0.9640\n",
      "[SPLIT 2]\n",
      "Percentage of digit 9 in the original dataset: 9.92 %\n",
      "Percentage of digit 9 in the training set: 9.87 %\n",
      "Percentage of digit 9 in the test set: 10.01 %\n",
      "Accuracy: 0.9556\n",
      "[SPLIT 3]\n",
      "Percentage of digit 9 in the original dataset: 9.92 %\n",
      "Percentage of digit 9 in the training set: 10.04 %\n",
      "Percentage of digit 9 in the test set: 9.66 %\n",
      "Accuracy: 0.9628\n"
     ]
    }
   ],
   "source": [
    "import numpy as np\n",
    "# keras 依赖 tensorflow：pip install tensorflow -i https://pypi.tuna.tsinghua.edu.cn/simple\n",
    "from keras.datasets import mnist\n",
    "\n",
    "# 训练集进行分析，并将其归一化为 [0, 1] 范围\n",
    "(x, y), (_, _) = mnist.load_data()\n",
    "x = x.reshape(-1, 28*28) / 255.0\n",
    "# 为这项二进制分类任务创建一个目标向量\n",
    "y = (y == 9)\n",
    "\n",
    "# 使用 Scikit-Learn 通过分层 K 折交叉验证来训练和测试随机梯度下降（SGD）分类器\n",
    "from sklearn.linear_model import SGDClassifier\n",
    "from sklearn.model_selection import KFold\n",
    "skfolds = KFold(n_splits=3)\n",
    "splits = skfolds.split(x, y)\n",
    "for i, (train_index, test_index) in enumerate(splits):  \n",
    "    x_train = x[train_index]\n",
    "    y_train = y[train_index]\n",
    "    x_test  = x[test_index]\n",
    "    y_test  = y[test_index]\n",
    "    clf = SGDClassifier()\n",
    "    clf.fit(x_train, y_train)\n",
    "    y_pred = clf.predict(x_test)\n",
    "    accuracy = np.mean(y_pred == y_test)\n",
    "    print(\"[SPLIT %d]\"%(i+1))\n",
    "    print(\"Percentage of digit 9 in the original dataset: %.2f %%\"%(np.mean(y==True)*100))\n",
    "    print(\"Percentage of digit 9 in the training set: %.2f %%\"%(np.mean(y_train==True)*100))\n",
    "    print(\"Percentage of digit 9 in the test set: %.2f %%\"%(np.mean(y_test==True)*100))\n",
    "    print(\"Accuracy: %.4f\"%accuracy)"
   ]
  },
  {
   "cell_type": "markdown",
   "metadata": {},
   "source": [
    "## 分层抽样"
   ]
  },
  {
   "cell_type": "code",
   "execution_count": 6,
   "metadata": {},
   "outputs": [
    {
     "name": "stdout",
     "output_type": "stream",
     "text": [
      "[SPLIT 1]\n",
      "Percentage of digit 9 in the original dataset: 9.92 %\n",
      "Percentage of digit 9 in the training set: 9.92 %\n",
      "Percentage of digit 9 in the test set: 9.92 %\n",
      "Accuracy: 0.9627\n",
      "[SPLIT 2]\n",
      "Percentage of digit 9 in the original dataset: 9.92 %\n",
      "Percentage of digit 9 in the training set: 9.92 %\n",
      "Percentage of digit 9 in the test set: 9.92 %\n",
      "Accuracy: 0.9636\n",
      "[SPLIT 3]\n",
      "Percentage of digit 9 in the original dataset: 9.92 %\n",
      "Percentage of digit 9 in the training set: 9.92 %\n",
      "Percentage of digit 9 in the test set: 9.92 %\n",
      "Accuracy: 0.9575\n"
     ]
    }
   ],
   "source": [
    "import numpy as np\n",
    "# keras 依赖 tensorflow：pip install tensorflow -i https://pypi.tuna.tsinghua.edu.cn/simple\n",
    "from keras.datasets import mnist\n",
    "\n",
    "# 训练集进行分析，并将其归一化为 [0, 1] 范围\n",
    "(x, y), (_, _) = mnist.load_data()\n",
    "x = x.reshape(-1, 28*28) / 255.0\n",
    "# 为这项二进制分类任务创建一个目标向量\n",
    "y = (y == 9)\n",
    "\n",
    "# 使用 Scikit-Learn 通过分层 K 折交叉验证来训练和测试随机梯度下降（SGD）分类器\n",
    "from sklearn.linear_model import SGDClassifier\n",
    "from sklearn.model_selection import StratifiedKFold\n",
    "\n",
    "skfolds = StratifiedKFold(n_splits=3)\n",
    "splits = skfolds.split(x, y)\n",
    "for i, (train_index, test_index) in enumerate(splits):  \n",
    "    x_train = x[train_index]\n",
    "    y_train = y[train_index]\n",
    "    x_test  = x[test_index]\n",
    "    y_test  = y[test_index]\n",
    "    clf = SGDClassifier()\n",
    "    clf.fit(x_train, y_train)\n",
    "    y_pred = clf.predict(x_test)\n",
    "    accuracy = np.mean(y_pred == y_test)\n",
    "    print(\"[SPLIT %d]\"%(i+1))\n",
    "    print(\"Percentage of digit 9 in the original dataset: %.2f %%\"%(np.mean(y==True)*100))\n",
    "    print(\"Percentage of digit 9 in the training set: %.2f %%\"%(np.mean(y_train==True)*100))\n",
    "    print(\"Percentage of digit 9 in the test set: %.2f %%\"%(np.mean(y_test==True)*100))\n",
    "    print(\"Accuracy: %.4f\"%accuracy)"
   ]
  }
 ],
 "metadata": {
  "kernelspec": {
   "display_name": "base",
   "language": "python",
   "name": "python3"
  },
  "language_info": {
   "codemirror_mode": {
    "name": "ipython",
    "version": 3
   },
   "file_extension": ".py",
   "mimetype": "text/x-python",
   "name": "python",
   "nbconvert_exporter": "python",
   "pygments_lexer": "ipython3",
   "version": "3.9.20"
  }
 },
 "nbformat": 4,
 "nbformat_minor": 2
}
