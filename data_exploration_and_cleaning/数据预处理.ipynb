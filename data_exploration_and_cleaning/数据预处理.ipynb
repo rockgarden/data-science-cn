{
 "cells": [
  {
   "cell_type": "markdown",
   "metadata": {},
   "source": [
    "# 概述\n",
    "\n",
    "数据预处理\n",
    "\n",
    "Data pre-processing"
   ]
  },
  {
   "cell_type": "markdown",
   "metadata": {},
   "source": [
    "# 重复值处理\n",
    "\n",
    "数据集-摩托车的销售情况数据\n",
    "- Condition:摩托车新旧情况（new:新的,used:使用过的）\n",
    "- Condition_Desc:对当前状况的描述\n",
    "- Price:价格\n",
    "- Location:发货地址\n",
    "- Model_Year:购买年份\n",
    "- Mileage:里程\n",
    "- Exterior_Color:车的颜色\n",
    "- Make:制造商（牌子）\n",
    "- Warranty:保修\n",
    "- Model:类型\n",
    "- Sub_Model:车辆类型\n",
    "- Type:种类\n",
    "- Vehicle_Title:车辆主题\n",
    "- OBO:车辆仪表盘\n",
    "- Watch_Count:表数\n",
    "- N_Reviews:评测次数\n",
    "- Seller_Status:卖家身份\n",
    "- Auction:拍卖（Ture或者False）\n",
    "- Buy_Now:现买\n",
    "- Bid_Count:出价计数"
   ]
  },
  {
   "cell_type": "code",
   "execution_count": null,
   "metadata": {},
   "outputs": [],
   "source": [
    "import pandas as pd\n",
    "df = pd.read_csv('data/MotorcycleData.csv',encoding = 'gbk',na_values='Na')\n",
    "print(df.head(5))\n",
    "# 自定义一个函数对价格和里程数数据进行处理\n",
    "def f(x):\n",
    "    if '$' in str(x):\n",
    "        x = str(x).strip('$')\n",
    "        x = str(x).replace(',','')\n",
    "    else:\n",
    "        x = str(x).replace(',','')\n",
    "    return float(x)\n",
    "df['Price'] =  df['Price'].apply(f)\n",
    "df['Mileage'] = df['Mileage'].apply(f)\n",
    "print('数据集是否存在重复观测: \\n', any(df.duplicated()))\n",
    "print(df[df.duplicated()]) # 查看那些数据重复\n",
    "print(\"重复数: \\n\", np.sum(df.duplicated()))\n",
    "df.drop_duplicates()    # 删除所有变量都重复的行\n",
    "df.drop_duplicates(subset= ['Condition','Condition_Desc','Price','Location'],inplace=True)  # 按照两个变量去重\n",
    "df.info()"
   ]
  },
  {
   "cell_type": "code",
   "execution_count": null,
   "metadata": {},
   "outputs": [],
   "source": [
    "df = pd.read_csv('data/cart.csv', parse_dates=['date'])\n",
    "df.duplicated()\n",
    "df.duplicated(['date', 'name'])"
   ]
  },
  {
   "cell_type": "markdown",
   "metadata": {},
   "source": [
    "## 清洗-重复数据-多列重复-pandas"
   ]
  },
  {
   "cell_type": "code",
   "execution_count": null,
   "metadata": {},
   "outputs": [],
   "source": [
    "#!/usr/bin/env python3\n",
    "# -*- encoding: utf-8 -*-\n",
    "\n",
    "# 完全重复：删除指定列数据完全相同的记录，不可重复列由业务分析得出\n",
    "\n",
    "# 导入相应数据库客户端\n",
    "import mysql.connector as mdb\n",
    "\n",
    "# *引入并配置 pandas 显示参数\n",
    "import pandas as pd\n",
    "pd.set_option('display.width', 150)\n",
    "pd.set_option('display.max_columns', 10)\n",
    "pd.options.display.float_format = '{:,.2f}'.format\n",
    "\n",
    "# 设置目标 table 查询语句以提取数据\n",
    "targettable = \"name\"\n",
    "\n",
    "# 使用 mysql api 和 read_sql() 从 mysql 获取和加载数据\n",
    "host = \"pdccmysql\"\n",
    "user = \"pdccuser\"\n",
    "password = \"pdccpass\"\n",
    "database = \"pdccschema\"\n",
    "connmysql = mdb.connect(host=host,database=database,user=user,password=password)\n",
    "df = pd.read_sql_table(table_name=targettable,con=connmysql)    # 生成 DataFrame\n",
    "connmysql.close()\n",
    "\n",
    "# 将 DataFrame 中的一个或多个列设置为索引（一般不列入重复记录计算）\n",
    "df.set_index([\"column1_name\",'column2_name'], inplace=True)\n",
    "\n",
    "# 可选仅考虑某些列来识别重复数据，默认情况下使用所有列\n",
    "uniqueSet=['column3','column4','column5','...']\n",
    "\n",
    "# 统计重复数据\n",
    "df.duplicated(subset=uniqueSet).sum()\n",
    "\n",
    "# 删除重复数据\n",
    "df.drop_duplicates(subset=uniqueSet,inplace=True,ignore_index=True)\n",
    "\n",
    "# 写入数据库，method = 'multi' 需要数据库支持 \n",
    "df.to_sql(name=targettable,con=connmysql,if_exists='replace',chunksize=1000)\n",
    "connmysql.close()"
   ]
  },
  {
   "cell_type": "markdown",
   "metadata": {},
   "source": [
    "## 清洗-重复数据-字符串相似度-编辑距离-fuzzywuzzy"
   ]
  },
  {
   "cell_type": "code",
   "execution_count": null,
   "metadata": {},
   "outputs": [],
   "source": [
    "#!/usr/bin/env python3\n",
    "# -*- encoding: utf-8 -*-\n",
    "\n",
    "# 字符串相似度-编辑距离：指定列数据(String)，识别相似度高的重复项并删除\n",
    "\n",
    "# 导入相应数据库客户端\n",
    "import mysql.connector as mdb\n",
    "import pandas as pd\n",
    "from fuzzywuzzy import process\n",
    "\n",
    "# 设置目标 table 查询语句以提取数据\n",
    "targettable = \"name\"\n",
    "\n",
    "# 使用 mysql api 和 read_sql() 从 mysql 获取和加载数据\n",
    "host = \"pdccmysql\"\n",
    "user = \"pdccuser\"\n",
    "password = \"pdccpass\"\n",
    "database = \"pdccschema\"\n",
    "connmysql = mdb.connect(host=host,database=database,user=user,password=password)\n",
    "df = pd.read_sql_table(table_name=targettable,con=connmysql)    # 生成 DataFrame\n",
    "connmysql.close()\n",
    "\n",
    "# 将 DataFrame 中的一个或多个列设置为索引\n",
    "df.set_index([\"column1_name\"], inplace=True)\n",
    "\n",
    "# 查找重复字符串函数\n",
    "def find_duplicates(dataframe, column_name, threshold=90):\n",
    "    \"\"\"\n",
    "    检测DataFrame中指定列的重复项。\n",
    "    :param dataframe: 要处理的DataFrame。\n",
    "    :param column_name: 要检测重复项的列名。\n",
    "    :param threshold: 相似度阈值，默认为90。\n",
    "    :return: 包含重复数据的索引列表。\n",
    "    \"\"\"\n",
    "    duplicates = set()\n",
    "    for i in range(len(dataframe)):\n",
    "        for j in range(i + 1, len(dataframe)):\n",
    "            # 计算当前行与所有行的相似度，并获取最高分\n",
    "            match = process.extractOne(dataframe[column_name].iloc[i], dataframe[column_name])\n",
    "            # 如果匹配分数大于阈值，则认为是重复数据\n",
    "            if match[1] > threshold:\n",
    "                duplicates.add(j)\n",
    "    return list(duplicates)\n",
    "\n",
    "# 调用函数并打印结果\n",
    "duplicates_indices = find_duplicates(df, 'column_str')\n",
    "df_cleaned = df.drop(duplicates_indices).reset_index(drop=True)\n",
    "\n",
    "# 写入数据库，method = 'multi' 需要数据库支持 \n",
    "df.to_sql(name=targettable,con=connmysql,if_exists='replace',chunksize=1000)\n",
    "connmysql.close()"
   ]
  },
  {
   "cell_type": "markdown",
   "metadata": {},
   "source": [
    "## 清洗-重复数据-字符串相似度-余弦相似度-sklearn\n",
    "\n",
    "'pip install scikit-learn -i https://pypi.tuna.tsinghua.edu.cn/simple'"
   ]
  },
  {
   "cell_type": "code",
   "execution_count": null,
   "metadata": {},
   "outputs": [],
   "source": [
    "#!/usr/bin/env python3\n",
    "# -*- encoding: utf-8 -*-\n",
    "\n",
    "# 余弦相似度-字符串：指定列数据(String)，识别相似度高的重复项并删除\n",
    "\n",
    "# 导入相应数据库客户端\n",
    "import mysql.connector as mdb\n",
    "import pandas as pd\n",
    "from sklearn.feature_extraction.text import TfidfVectorizer \n",
    "from sklearn.metrics.pairwise import cosine_similarity\n",
    "\n",
    "# 设置目标 table 查询语句以提取数据\n",
    "targettable = \"name\"\n",
    "\n",
    "# 使用 mysql api 和 read_sql() 从 mysql 获取和加载数据\n",
    "host = \"pdccmysql\"\n",
    "user = \"pdccuser\"\n",
    "password = \"pdccpass\"\n",
    "database = \"pdccschema\"\n",
    "connmysql = mdb.connect(host=host,database=database,user=user,password=password)\n",
    "df = pd.read_sql_table(table_name=targettable,con=connmysql)    # 生成 DataFrame\n",
    "connmysql.close()\n",
    "\n",
    "# 将 DataFrame 中的一个或多个列设置为索引\n",
    "df.set_index([\"column1_name\"], inplace=True)\n",
    "# 将 DataFrame 中的字符串列转换为 np.ndarray 对象\n",
    "array = pd.Series(df['column_string_name']).to_numpy()\n",
    "# 数据矢量化\n",
    "vectorizer = TfidfVectorizer()\n",
    "# 计算统计量并转换数据\n",
    "vectors = vectorizer.fit_transform(array.astype('U'))\n",
    "# 计算余弦相似度\n",
    "similarities = cosine_similarity(vectors)\n",
    "# 查找重复\n",
    "duplicates=set()\n",
    "for i in range (len(similarities)):\n",
    "    for j in range(i+1, len(similarities)):\n",
    "        if similarities[i][j] > 0.95:\n",
    "            duplicates.add (j)\n",
    "# 删除重复内容\n",
    "df.drop(index=duplicates,inplace=True)\n",
    "\n",
    "# 写入数据库，method = 'multi' 需要数据库支持 \n",
    "df.to_sql(name=targettable,con=connmysql,if_exists='replace',chunksize=1000)\n",
    "connmysql.close()"
   ]
  },
  {
   "cell_type": "markdown",
   "metadata": {},
   "source": [
    "## TODO 清洗-重复数据-余弦相似度-sklearn"
   ]
  },
  {
   "cell_type": "code",
   "execution_count": null,
   "metadata": {},
   "outputs": [],
   "source": [
    "import numpy as np\n",
    "import pandas as pd\n",
    "\n",
    "def cosine_similarity(df):\n",
    "    \"\"\"\n",
    "    计算数据帧中每行之间的余弦相似度\n",
    "    \"\"\"\n",
    "    # 计算每一行的L2范数\n",
    "    norms = df.apply(np.linalg.norm, axis=1)\n",
    "\n",
    "    # 计算余弦相似度\n",
    "    cosine_sim = df.dot(df.T).divide(np.outer(norms, norms))\n",
    "\n",
    "    # 将对角线设置为NaN，因为每行与自己的余弦相似度为1\n",
    "    np.fill_diagonal(cosine_sim.values, np.nan)\n",
    "\n",
    "    # 将余弦相似度存储在数据框中\n",
    "    sim_df = pd.DataFrame(cosine_sim.values, index=df.index, columns=df.index)\n",
    "\n",
    "    return sim_df\n",
    "\n",
    "# 示例电影评分数据集\n",
    "ratings_df = pd.DataFrame({\n",
    "    'user0': [\"c some sample data\", 1, 2, 0, 2],\n",
    "    'user1': [1, \"b some sample data\", 4, 1, 0],\n",
    "    'user2': [2, 4, \"c some sample data\", 1, 1],\n",
    "    'user3': [1, 2, 1, 3, 4],\n",
    "    'user4': [4, \"a some sample data\", 3, 2, 0]\n",
    "}, index=['movie0', 'movie1', 'movie2', 'movie3', 'movie4'])\n",
    "\n",
    "# 计算每个用户之间的余弦相似度\n",
    "similarity_df = cosine_similarity(ratings_df)\n",
    "print(similarity_df.head(10))\n",
    "print(ratings_df.head(10))"
   ]
  },
  {
   "cell_type": "markdown",
   "metadata": {},
   "source": [
    "# 缺失值处理"
   ]
  },
  {
   "cell_type": "code",
   "execution_count": null,
   "metadata": {},
   "outputs": [],
   "source": [
    "df.apply(lambda x: sum(x.isnull())/len(x),axis= 0)  #缺失比例\n",
    "# 删除法\n",
    "df.dropna() # 直接删除法\n",
    "df.dropna(how='any',axis = 1 )  # 只要有缺失，就删除这一列\n",
    "df.dropna(how='any',axis = 0)   # 只要有缺失，就删除这一行，等价于df.dropna()\n",
    "df.dropna(axis=0,how='any',subset=['Condition','Price','Mileage'])  # 只要有缺失，就删除这一行，基于三个变量\n",
    "# 使用替换法进行缺失值的填补\n",
    "df.head(10)\n",
    "df.Mileage.fillna(df.Mileage.mean())    # 年龄用均值填补\n",
    "df.Mileage.fillna(df.Mileage.median())  # 中位数填补\n",
    "df[df['Exterior_Color'].isnull()]\n",
    "df.Exterior_Color.fillna(df.Exterior_Color.mode()[0])   # 众数填补\n",
    "df.fillna(20)   # 所有缺失用20填补\n",
    "# 婚姻状况使用众数，年龄使用均值，农户家庭人数使用中位数\n",
    "df.fillna(value = {'Exterior_Color':df.Exterior_Color.mode()[0],'Mileage':df.Mileage.mean()})\n",
    "df['Exterior_Color'].ffill() # 前向填补\n",
    "df['Exterior_Color'].bfill() # 后向填补"
   ]
  },
  {
   "cell_type": "code",
   "execution_count": null,
   "metadata": {},
   "outputs": [],
   "source": [
    "df = pd.read_csv('data/cart.csv', parse_dates=['date'])\n",
    "df['amount'].astype('Int32')\n",
    "df.isnull()\n",
    "df.isnull().any(axis=1)"
   ]
  },
  {
   "cell_type": "markdown",
   "metadata": {},
   "source": [
    "# 异常值处理"
   ]
  },
  {
   "cell_type": "code",
   "execution_count": null,
   "metadata": {},
   "outputs": [],
   "source": [
    "# 按需进行数值转换 \n",
    "df.head(5)\n",
    "df['Price'].str[0:4]    # 字符串切片\n",
    "# 将价格转换为float:需要先进行字符串处理\n",
    "df['Price']=df['Price'].str.strip('$')\n",
    "df['Price']=df['Price'].str.replace(',','')\n",
    "df['Price']=df['Price'].astype(float)\n",
    "df.Model.head(5)\n",
    "df['Location'].str.split(',') # 使用字符串分割,用于对文本的处理\n",
    "df['Mileage'].str.len() #计算字符串长度"
   ]
  },
  {
   "cell_type": "code",
   "execution_count": null,
   "metadata": {},
   "outputs": [],
   "source": [
    "# 剔除户主姓名,户主身份证号和年龄有缺失的样本\n",
    "df.dropna(axis = 0,how='any',subset=['Price'],inplace = True)   # 只要有缺失，就删除这一行,基于变量\n",
    "# 异常值检测之标准差法-均值的2倍标准差范围\n",
    "xbar = df.Price.mean() \n",
    "xstd = df.Price.std()\n",
    "print('标准差法异常值上限检测：\\n',any(df.Price> xbar + 2.5 * xstd))\n",
    "print('标准差法异常值下限检测：\\n',any(df.Price< xbar - 2.5 * xstd))\n",
    "# 异常值检测之箱线图法-上下4分位数差方法\n",
    "Q1 = df.Price.quantile(q = 0.25)\n",
    "Q3 = df.Price.quantile(q = 0.75)\n",
    "IQR = Q3 - Q1\n",
    "print('箱线图法异常值上限检测：\\n',any(df.Price > Q3 + 1.5 * IQR))\n",
    "print('箱线图法异常值下限检测：\\n',any(df.Price < Q1 - 1.5 * IQR))\n",
    "df.Price.describe() # 对年龄进行描述性统计\n",
    "\n",
    "# 用99分位数和1分位数替换\n",
    "\n",
    "# 计算P1和P99\n",
    "P1 =df.Price.quantile(0.01); P99 = df.Price.quantile(0.99)\n",
    "# 先创建一个新变量，进行赋值，然后将满足条件的数据进行替换\n",
    "df['Price_new'] = df['Price']\n",
    "df.loc[df['Price'] > P99,'Price_new']  = P99\n",
    "df.loc[df['Price'] < P1,'Price_new']  = P1\n",
    "df[['Price','Price_new']].describe()"
   ]
  },
  {
   "cell_type": "markdown",
   "metadata": {},
   "source": [
    "## z_score"
   ]
  },
  {
   "cell_type": "code",
   "execution_count": 2,
   "metadata": {},
   "outputs": [
    {
     "name": "stdout",
     "output_type": "stream",
     "text": [
      "                      time name         value\n",
      "35 2021-07-13 14:37:08.649  mem  2.275387e+08\n",
      "67 2021-07-13 14:37:23.961  mem  2.275173e+08\n",
      "12 2021-07-13 14:36:58.122  mem  2.275156e+08\n",
      "62 2021-07-13 14:37:22.047  cpu  3.095000e+01\n",
      "42 2021-07-13 14:37:12.477  mem  2.275487e+08\n",
      "53 2021-07-13 14:37:17.262  mem  2.275512e+08\n",
      "79 2021-07-13 14:37:29.703  mem  2.275184e+08\n",
      "14 2021-07-13 14:36:59.079  CPU  3.040000e+01\n",
      "56 2021-07-13 14:37:19.176  cpu  3.060000e+01\n",
      "78 2021-07-13 14:37:29.703  cpu  3.700000e+01\n",
      "     value                                                                  \\\n",
      "     count          mean           std     min           25%           50%   \n",
      "name                                                                         \n",
      "CPU    1.0  3.040000e+01           NaN   30.40  3.040000e+01  3.040000e+01   \n",
      "cpu   49.0  3.645633e+01  3.977927e+01  -32.14  2.956000e+01  3.157000e+01   \n",
      "mem   50.0  2.229711e+08  3.217637e+07  295.00  2.275070e+08  2.275188e+08   \n",
      "\n",
      "                                 \n",
      "               75%          max  \n",
      "name                             \n",
      "CPU   3.040000e+01         30.4  \n",
      "cpu   3.507000e+01        300.9  \n",
      "mem   2.275342e+08  227556054.0  \n",
      "mem    50\n",
      "cpu    49\n",
      "CPU     1\n",
      "Name: name, dtype: int64\n",
      "0     0.141285\n",
      "2     0.141347\n",
      "4     0.141239\n",
      "6    -6.929645\n",
      "8     0.141724\n",
      "11    0.141636\n",
      "12    0.141236\n",
      "15    0.141530\n",
      "17    0.141730\n",
      "19    0.141010\n",
      "Name: value, dtype: float64\n"
     ]
    },
    {
     "data": {
      "text/html": [
       "<div>\n",
       "<style scoped>\n",
       "    .dataframe tbody tr th:only-of-type {\n",
       "        vertical-align: middle;\n",
       "    }\n",
       "\n",
       "    .dataframe tbody tr th {\n",
       "        vertical-align: top;\n",
       "    }\n",
       "\n",
       "    .dataframe thead th {\n",
       "        text-align: right;\n",
       "    }\n",
       "</style>\n",
       "<table border=\"1\" class=\"dataframe\">\n",
       "  <thead>\n",
       "    <tr style=\"text-align: right;\">\n",
       "      <th></th>\n",
       "      <th>time</th>\n",
       "      <th>name</th>\n",
       "      <th>value</th>\n",
       "    </tr>\n",
       "  </thead>\n",
       "  <tbody>\n",
       "    <tr>\n",
       "      <th>6</th>\n",
       "      <td>2021-07-13 14:36:55.251</td>\n",
       "      <td>mem</td>\n",
       "      <td>295.0</td>\n",
       "    </tr>\n",
       "  </tbody>\n",
       "</table>\n",
       "</div>"
      ],
      "text/plain": [
       "                     time name  value\n",
       "6 2021-07-13 14:36:55.251  mem  295.0"
      ]
     },
     "execution_count": 2,
     "metadata": {},
     "output_type": "execute_result"
    },
    {
     "data": {
      "image/png": "[encoded data removed]",
      "text/plain": [
       "<Figure size 640x480 with 3 Axes>"
      ]
     },
     "metadata": {},
     "output_type": "display_data"
    }
   ],
   "source": [
    "import pandas as pd\n",
    "# 载入数据\n",
    "df = pd.read_csv('data/metrics.csv', parse_dates=['time'])\n",
    "print(df.sample(10))\n",
    "# 快速分组统计\n",
    "print(df.groupby('name').describe())\n",
    "# 按列分组计数\n",
    "print(df['name'].value_counts())\n",
    "# 返回按给定 \"index / column\" 值组织的重塑 DataFrame 生成 \"透视(pivot)\" 表\n",
    "pd.pivot(df, index='time', columns='name').plot(subplots=True)\n",
    "df.query('name == \"cpu\" & (value < 0 | value > 100)')\n",
    "mem = df[df['name'] == 'mem']['value']\n",
    "# 计算 z 分数（也称为标准分数，一个数据点离平均值有多远）\n",
    "z_score = (mem - mem.mean())/mem.std()\n",
    "print(z_score.head(10))\n",
    "# 设定阀值\n",
    "bad_mem = mem[z_score.abs() > 2]\n",
    "# 定位输出超过阀值的数据\n",
    "df.loc[bad_mem.index]"
   ]
  },
  {
   "cell_type": "markdown",
   "metadata": {},
   "source": [
    "# 数据离散化"
   ]
  },
  {
   "cell_type": "code",
   "execution_count": null,
   "metadata": {},
   "outputs": [],
   "source": [
    "# cut\n",
    "df.head(5)\n",
    "df['Price_bin']=pd.cut(df['Price_new'],5,labels=range(5))\n",
    "# 自定义分段标准和标签\n",
    "df['Price_new'].describe()\n",
    "w = [100,1000,5000,10000,20000,50000]\n",
    "df['Price_bin'] = pd.cut(df['Price_new'], bins =w,labels=['低','便宜','划算','中等','高'],right=False)\n",
    "df['Price_bin'].value_counts()\n",
    "# qcut\n",
    "k = 5\n",
    "w = [1.0*i/k for i in range(k+1)] \n",
    "w\n",
    "df['Price_bin'] = pd.qcut(df['Price_new'],w,labels=range(k))\n",
    "# 或者先计算分位数的值\n",
    "k = 5\n",
    "w1 = df['Price_new'].quantile([1.0*i/k for i in range(k+1)])    # 先计算分位数,在进行分段\n",
    "w1[0] = w1[0]* 0.95 # 最小值缩小一点\n",
    "w[-1] = w1[1]* 1.05 # 将最大值增大一点, 目的是为了确保数据在这个范围内\n",
    "w1\n",
    "df['Price_bin'] = pd.cut(df['Price_new'],w1,labels=range(k))"
   ]
  }
 ],
 "metadata": {
  "kernelspec": {
   "display_name": "base",
   "language": "python",
   "name": "python3"
  },
  "language_info": {
   "codemirror_mode": {
    "name": "ipython",
    "version": 3
   },
   "file_extension": ".py",
   "mimetype": "text/x-python",
   "name": "python",
   "nbconvert_exporter": "python",
   "pygments_lexer": "ipython3",
   "version": "3.9.20"
  }
 },
 "nbformat": 4,
 "nbformat_minor": 2
}
