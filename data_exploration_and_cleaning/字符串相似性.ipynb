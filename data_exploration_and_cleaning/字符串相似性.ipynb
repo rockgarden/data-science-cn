{
 "cells": [
  {
   "cell_type": "markdown",
   "metadata": {},
   "source": [
    "# 字符串相似性计算\n",
    "\n",
    "Similarity String Handling"
   ]
  },
  {
   "cell_type": "code",
   "execution_count": 42,
   "metadata": {},
   "outputs": [
    {
     "name": "stdout",
     "output_type": "stream",
     "text": [
      "['This is some sample data', 'This is some example data', 'More sample data', 'Another example']\n"
     ]
    }
   ],
   "source": [
    "from sklearn.feature_extraction.text import TfidfVectorizer \n",
    "from sklearn.metrics.pairwise import cosine_similarity\n",
    "data = [\"This is some sample data\",\n",
    "        \"This is some example data\",\n",
    "        \"This is some example data\",\n",
    "        \"More sample data\",\n",
    "        \"Another example\"]\n",
    "# 数据矢量化\n",
    "vectorizer = TfidfVectorizer ()\n",
    "vectors = vectorizer.fit_transform(data)\n",
    "# 计算余弦相似度\n",
    "similarities = cosine_similarity(vectors)\n",
    "# 查找重复\n",
    "duplicates = set ()\n",
    "for i in range (len(similarities)):\n",
    "    for j in range(i+1, len(similarities)):\n",
    "        if similarities[i][j] > 0.95:\n",
    "            duplicates.add (j)\n",
    "# 删除重复内容\n",
    "for i in sorted (duplicates, reverse=True):\n",
    "    del data[i]\n",
    "print(data)"
   ]
  },
  {
   "cell_type": "code",
   "execution_count": null,
   "metadata": {},
   "outputs": [
    {
     "name": "stdout",
     "output_type": "stream",
     "text": [
      "[[1.         0.02665852 0.30393068 ... 0.04434518 0.03041982 0.02982183]\n",
      " [0.02665852 1.         0.02551972 ... 0.02993275 0.0205332  0.02012957]\n",
      " [0.30393068 0.02551972 1.         ... 0.04245084 0.02912034 0.0285479 ]\n",
      " ...\n",
      " [0.04434518 0.02993275 0.04245084 ... 1.         0.03415601 0.03348457]\n",
      " [0.03041982 0.0205332  0.02912034 ... 0.03415601 1.         0.02296968]\n",
      " [0.02982183 0.02012957 0.0285479  ... 0.03348457 0.02296968 1.        ]]\n",
      "{9, 10, 23, 25, 28, 29, 46, 57, 62, 63, 64, 67, 70, 77, 83, 93, 98, 103, 105, 107, 109, 114, 117, 124, 129, 131, 132, 133, 137, 139, 143, 146, 147, 150, 152, 154, 155, 156, 157, 160, 164, 165, 172, 173, 177, 178, 185, 186, 193, 195, 197, 199, 201, 202, 203, 204, 205, 208, 215, 219, 223, 224, 226, 227, 228, 231, 232, 235, 236, 237, 240, 241, 244, 245, 246, 250, 251, 252, 255, 260, 261, 262, 264, 265, 267, 268, 269, 270, 275, 277, 279, 281, 282, 283, 285, 288, 292, 294, 295, 296, 300, 301, 306, 308, 309, 311, 313, 315, 316, 324, 331, 339, 340, 346, 350, 351, 353, 355, 356, 357, 358, 359, 360, 361, 363, 364, 367, 368, 372, 376, 377, 379, 380, 382, 383, 385, 387, 388, 389, 391, 392, 393, 395, 396, 397, 399, 400, 402, 403, 409, 410, 412, 417, 418, 423, 426, 427, 429, 432, 433, 437, 444, 446, 447, 450, 452, 453, 455, 458, 459, 460, 461, 463, 464, 465, 466, 467, 468, 469, 470, 471, 473, 474, 475, 477, 479, 480, 484, 486, 487, 489, 492, 493, 494, 497, 498, 500, 501, 502, 503, 504, 506, 507, 509, 513, 514, 516, 517, 520, 525, 526, 532, 533, 534, 535, 536, 537, 541, 542, 544, 552, 553, 555, 556, 560, 562, 563, 564, 565, 568, 569, 570, 571, 573, 575, 576, 582, 583, 584, 585, 586, 588, 591, 594, 597, 598, 601, 604, 605, 607, 612, 615, 616, 617, 618, 619, 627, 628, 630, 631, 633, 636, 637, 638, 639, 642, 647, 650, 652, 658, 660, 661, 662, 663, 666, 668, 670, 672, 673, 674, 678, 679, 680, 681, 682, 685, 686, 687, 689, 690, 691, 692, 693, 695, 696, 698, 700, 701, 702, 703, 704, 705, 706, 708, 711, 714, 715, 716, 719, 720, 721, 722, 725, 726, 729, 732, 734, 736, 739, 740, 744, 745, 748, 750, 751, 752, 753, 756, 757, 758, 759, 763, 764, 765, 769, 770, 771, 772, 773, 774, 777, 779, 780, 781, 783, 784, 789, 790, 791, 792, 796, 798, 799, 800, 804, 805, 806, 807, 808, 809, 810, 812, 813, 814, 815, 816, 817, 819, 821, 823, 824, 826, 827, 828, 829, 830, 832, 836, 837, 838, 840, 846, 848, 850, 852, 853, 854, 855, 857, 858, 859, 860, 862, 863, 865, 866, 867, 868, 869, 870, 872, 873, 877, 878, 879, 881, 882, 883, 885, 886, 887, 890, 892, 893, 894, 895, 896, 897, 899, 900, 901, 903, 904, 906, 907, 908, 910, 912, 913, 914, 915, 916, 919, 920, 921, 923, 924, 925, 928, 929, 931, 933, 934, 935, 936, 937, 938, 940, 941, 942, 944, 945, 946, 947, 948, 949, 950, 953, 954, 955, 956, 958, 959, 961, 962, 964, 966, 967, 969, 971, 972, 973, 975, 976, 977, 978, 980, 982, 983, 984, 985, 986, 988, 992, 994, 996, 997, 998, 999, 1000, 1002, 1003, 1006, 1007, 1009, 1013, 1015, 1017, 1018, 1019, 1021, 1022, 1023, 1027, 1028, 1031, 1033, 1041, 1046, 1047, 1049, 1050, 1051, 1053, 1054, 1056, 1057, 1058, 1061, 1062, 1063, 1065, 1066, 1067, 1074, 1078, 1080, 1081, 1082, 1086, 1087, 1092, 1093, 1094, 1095, 1097, 1098, 1099, 1101, 1104, 1106, 1107, 1110, 1111, 1114, 1119, 1120, 1121, 1122, 1124, 1125, 1126, 1127, 1128, 1130, 1133, 1134, 1135, 1136, 1137, 1138, 1139, 1140, 1143, 1144, 1145, 1147, 1149, 1151, 1155, 1156, 1157, 1158, 1159, 1160, 1161, 1162, 1163, 1164, 1165, 1166, 1167, 1168, 1169, 1170, 1171, 1172, 1175, 1176, 1177, 1178, 1179, 1182, 1183, 1186, 1190, 1191, 1192, 1196, 1197, 1200, 1201, 1202, 1203, 1204, 1205, 1206, 1208, 1209, 1210, 1211, 1212, 1213, 1214, 1216, 1217, 1224, 1225, 1230, 1231, 1232, 1234, 1235, 1236, 1238, 1243, 1246, 1250, 1251, 1252, 1253, 1254, 1255, 1257, 1260, 1261, 1262, 1266, 1267, 1268, 1269, 1271, 1273, 1276, 1278, 1283, 1284, 1287, 1289, 1290, 1292, 1294, 1295, 1297, 1298, 1301, 1302, 1303, 1306, 1308, 1309, 1311, 1313, 1314, 1318, 1319, 1320, 1323, 1324, 1325, 1327, 1328, 1329, 1330, 1333, 1335, 1336, 1337, 1338, 1339, 1340, 1341, 1344, 1345, 1346, 1348, 1350, 1351, 1352, 1353, 1355, 1356, 1358, 1359, 1367, 1369, 1371, 1372, 1373, 1374, 1379, 1380, 1381, 1382, 1384, 1385, 1390, 1391, 1393, 1394, 1395, 1400, 1402, 1405, 1406, 1408, 1410, 1411, 1412, 1413, 1414, 1416, 1420, 1431, 1434, 1435, 1436, 1437, 1438, 1439, 1440, 1443, 1446, 1447, 1449, 1450, 1451, 1455, 1457, 1458, 1459, 1462, 1463, 1464, 1465, 1466, 1467, 1468, 1469, 1470, 1472, 1473, 1476, 1478, 1480, 1481, 1482, 1483, 1484, 1485, 1486, 1488, 1489, 1490, 1492, 1493, 1497, 1499, 1500, 1502, 1503, 1504, 1505, 1509, 1510, 1511, 1512, 1513, 1514, 1518, 1519, 1520, 1526, 1527, 1529, 1530, 1531, 1533, 1535, 1536, 1537, 1539, 1540, 1542, 1543, 1544, 1545, 1547, 1549, 1550, 1551, 1552, 1553, 1555, 1556, 1558, 1559, 1560, 1561, 1563, 1564, 1565, 1567, 1568, 1569, 1570, 1576, 1577, 1579, 1581, 1582, 1584, 1585, 1586, 1587, 1590, 1591, 1594, 1595, 1596, 1597, 1600, 1601, 1602, 1603, 1604, 1606, 1608, 1609, 1610, 1611, 1612, 1615, 1618, 1620, 1621, 1622, 1623, 1626, 1629, 1633, 1634, 1637, 1638, 1642, 1645, 1646, 1647, 1648, 1649, 1650, 1651, 1652, 1653, 1655, 1656, 1659, 1662, 1663, 1665, 1666, 1667, 1669, 1671, 1672, 1679, 1681, 1683, 1684, 1685, 1686, 1687, 1688, 1689, 1692, 1693, 1694, 1696, 1698, 1699, 1700, 1701, 1703, 1704, 1705, 1706, 1707, 1708, 1709, 1710, 1711, 1712, 1713, 1714, 1715, 1716, 1717, 1719, 1720, 1721, 1722, 1723, 1725, 1726, 1727, 1728, 1729, 1730, 1731, 1732, 1734, 1735, 1736, 1737, 1738, 1739, 1740, 1741, 1742, 1744, 1748, 1751, 1752, 1753, 1754, 1755, 1756, 1761, 1765, 1771, 1773, 1774, 1777, 1779, 1780, 1781, 1782, 1783, 1784, 1787, 1788, 1789, 1790, 1793, 1794, 1798, 1800, 1801, 1802, 1804, 1810, 1813, 1815, 1816, 1817, 1818, 1820, 1821, 1822, 1823, 1827, 1828, 1830, 1832, 1833, 1834, 1835, 1836, 1837, 1839, 1840, 1841, 1843, 1845, 1846, 1848, 1849, 1850, 1851, 1852, 1853, 1854, 1855, 1856, 1857, 1858, 1860, 1861, 1862, 1864, 1865, 1869, 1870, 1871, 1877, 1878, 1880, 1881, 1882, 1883, 1884, 1886, 1887, 1888, 1889, 1891, 1895, 1896, 1901, 1902, 1906, 1907, 1908, 1911, 1912, 1914, 1915, 1916, 1917, 1918, 1919, 1920, 1922, 1925, 1926, 1928, 1930, 1931, 1932, 1933, 1934, 1935, 1936, 1937, 1939, 1940, 1941, 1942, 1944, 1946, 1947, 1950, 1951, 1952, 1956, 1958, 1961, 1963, 1964, 1965, 1967, 1969, 1970, 1973, 1974, 1975, 1976, 1979, 1980, 1983, 1986, 1987, 1988, 1990, 1993, 1994, 1995, 2000, 2001, 2002, 2003, 2004, 2005, 2006, 2007, 2010, 2011, 2012, 2014, 2015, 2016, 2018, 2019, 2021, 2022, 2023, 2026, 2027, 2028, 2029, 2030, 2032, 2033, 2036, 2037, 2038, 2039, 2040, 2042, 2047, 2052, 2055, 2058, 2059, 2060, 2062, 2063, 2065, 2067, 2068, 2070, 2074, 2075, 2077, 2078, 2079, 2080, 2081, 2082, 2083, 2085, 2090, 2092, 2096, 2097, 2099, 2100, 2101, 2102, 2103, 2104, 2106, 2111, 2112, 2113, 2116, 2117, 2118, 2120, 2121, 2122, 2123, 2124, 2126, 2127, 2128, 2129, 2131, 2133, 2135, 2136, 2137, 2138, 2139, 2140, 2141, 2142, 2144, 2145, 2146, 2147, 2148, 2150, 2151, 2154, 2155, 2156, 2157, 2158, 2159, 2160, 2163, 2164, 2167, 2169, 2171, 2172, 2173, 2176, 2178, 2179, 2181, 2182, 2183, 2184, 2185, 2186, 2187, 2190, 2196, 2197, 2200, 2201, 2202, 2203, 2204, 2205, 2206, 2207, 2208, 2209, 2210, 2211, 2212, 2213, 2214, 2217, 2219, 2220, 2221, 2222, 2223, 2224, 2225, 2227, 2229, 2230, 2231, 2232, 2234, 2235, 2236, 2237, 2238, 2240, 2241, 2242, 2243, 2245, 2246, 2247, 2248, 2250, 2253, 2254, 2255, 2256, 2260, 2262, 2263, 2264, 2265, 2266, 2268, 2269, 2271, 2274, 2276, 2277, 2280, 2281, 2284, 2286, 2287, 2288, 2289, 2291, 2292, 2294, 2295, 2296, 2297, 2299, 2301, 2302, 2303, 2304, 2305, 2306, 2307, 2308, 2309, 2310, 2311, 2313, 2314, 2317, 2319, 2320, 2323, 2324, 2325, 2326, 2327, 2329, 2330, 2331, 2332, 2333, 2335, 2337, 2338, 2339, 2340, 2343, 2344, 2345, 2346, 2348, 2350, 2353, 2359, 2361, 2363, 2365, 2368, 2369, 2370, 2371, 2372, 2373, 2375, 2376, 2377, 2378, 2380, 2382, 2385, 2387, 2388, 2389, 2390, 2391, 2393, 2394, 2398, 2399, 2400, 2401, 2402, 2403, 2404, 2407, 2408, 2409, 2410, 2412, 2413, 2414, 2415, 2416, 2417, 2418, 2420, 2421, 2422, 2423, 2424, 2425, 2426, 2427, 2429, 2430, 2431, 2432, 2433, 2435, 2436, 2437, 2440, 2442, 2443, 2445, 2446, 2447, 2449, 2450, 2451, 2452, 2453, 2454, 2455, 2456, 2457, 2458, 2459, 2460, 2463, 2464, 2466, 2468, 2469, 2471, 2476, 2478, 2479, 2480, 2481, 2482, 2483, 2484, 2485, 2487, 2488, 2491, 2492, 2497, 2502, 2504, 2505, 2508, 2509, 2511, 2513, 2514, 2518, 2519, 2520, 2522, 2523, 2524, 2530, 2535, 2536, 2537, 2540, 2542, 2543, 2546, 2547, 2548, 2549, 2550, 2551, 2552, 2553, 2554, 2555, 2556, 2557, 2558, 2559, 2560, 2561, 2562, 2564, 2565, 2566, 2569, 2570, 2574, 2577, 2580, 2582, 2583, 2584, 2586, 2587, 2588, 2589, 2590, 2592, 2593, 2594, 2595, 2596, 2597, 2598, 2600, 2601, 2602, 2603, 2604, 2605, 2606, 2607, 2608, 2609, 2610, 2611, 2612, 2613, 2614, 2615, 2617, 2618, 2620, 2621, 2622, 2623, 2624, 2625, 2627, 2630, 2631, 2632, 2636, 2637, 2640, 2641, 2642, 2644, 2645, 2646, 2648, 2649, 2650, 2651, 2654, 2655, 2663, 2665, 2669, 2670, 2672, 2673, 2674, 2675, 2676, 2677, 2678, 2681, 2682, 2690, 2691, 2692, 2695, 2696, 2697, 2702, 2706, 2707, 2708, 2709, 2710, 2711, 2712, 2713, 2715, 2717, 2718, 2720, 2721, 2723, 2724, 2725, 2726, 2727, 2728, 2729, 2730, 2732, 2735, 2737, 2738, 2739, 2740, 2742, 2743, 2744, 2745, 2746, 2748, 2749, 2750, 2751, 2753, 2754, 2755, 2756, 2757, 2758, 2762, 2763, 2764, 2765, 2767, 2769, 2770, 2771, 2774, 2776, 2777, 2778, 2780, 2781, 2784, 2786, 2789, 2790, 2792, 2794, 2795, 2796, 2799, 2801, 2802, 2804, 2807, 2808, 2809, 2811, 2812, 2813, 2815, 2817, 2818, 2819, 2821, 2823, 2825, 2826, 2828, 2830, 2831, 2832, 2833, 2835, 2836, 2837, 2840, 2841, 2842, 2843, 2844, 2845, 2846, 2847, 2848, 2849, 2850, 2852, 2853, 2854, 2855, 2857, 2860, 2861, 2863, 2865, 2866, 2867, 2868, 2869, 2870, 2871, 2872, 2876, 2877, 2878, 2879, 2880, 2881, 2882, 2883, 2884, 2885, 2888, 2889, 2891, 2892, 2894, 2897, 2898, 2899, 2900, 2901, 2902, 2903, 2904, 2905, 2906, 2907, 2908, 2909, 2912, 2913, 2914, 2915, 2916, 2918, 2920, 2921, 2922, 2924, 2925, 2926, 2927, 2930, 2933, 2934, 2938, 2940, 2941, 2943, 2945, 2948, 2950, 2951, 2953, 2955, 2957, 2960, 2961, 2962, 2964, 2965, 2966, 2967, 2968, 2969, 2972, 2973, 2974, 2975, 2977, 2978, 2979, 2980, 2982, 2983, 2984, 2986, 2987, 2990, 2991, 2992, 2993, 2994, 2996, 2997, 2998}\n",
      "     Condition                                     Condition_Desc     Price  \\\n",
      "0         Used                             mint!!! very low miles  $11,412    \n",
      "1         Used                                  Perfect condition  $17,200    \n",
      "2         Used                                                NaN   $3,872    \n",
      "3         Used                   CLEAN TITLE   READY TO RIDE HOME   $6,575    \n",
      "4         Used                                                NaN  $10,000    \n",
      "...        ...                                                ...       ...   \n",
      "2981      Used                                                NaN   $2,250    \n",
      "2985      Used                                                NaN   $3,000    \n",
      "2988      Used                                                NaN   $9,995    \n",
      "2989      Used                            like showroom condition  $16,995    \n",
      "2995      Used  Bike is in perfect condition!  No dents, nicks...  $18,999    \n",
      "\n",
      "                                 Location Model_Year Mileage  Exterior_Color  \\\n",
      "0        McHenry, Illinois, United States       2013  16,000           Black   \n",
      "1      Fort Recovery, Ohio, United States       2016      60           Black   \n",
      "2        Chicago, Illinois, United States       1970  25,763     Silver/Blue   \n",
      "3     Green Bay, Wisconsin, United States       2009  33,142             Red   \n",
      "4     West Bend, Wisconsin, United States       2012  17,800            Blue   \n",
      "...                                   ...        ...     ...             ...   \n",
      "2981  Apollo, Pennsylvania, United States       2007       0             NaN   \n",
      "2985      Tualatin, Oregon, United States       1989  27,133           White   \n",
      "2988      Kerrville, Texas, United States       2016   1,600           Black   \n",
      "2989        Marietta, Ohio, United States       2012   7,739  Big Pearl Blue   \n",
      "2995     Goodyear, Arizona, United States       2016     863           Black   \n",
      "\n",
      "                 Make                                    Warranty  \\\n",
      "0     Harley-Davidson                                 Unspecified   \n",
      "1     Harley-Davidson            Vehicle has an existing warranty   \n",
      "2                 BMW  Vehicle does NOT have an existing warranty   \n",
      "3     Harley-Davidson                                         NaN   \n",
      "4     Harley-Davidson                                 NO WARRANTY   \n",
      "...               ...                                         ...   \n",
      "2981            Honda                                         NaN   \n",
      "2985            Honda  Vehicle does NOT have an existing warranty   \n",
      "2988           Indian            Vehicle has an existing warranty   \n",
      "2989  Harley-Davidson  Vehicle does NOT have an existing warranty   \n",
      "2995           Indian            Vehicle has an existing warranty   \n",
      "\n",
      "                 Model  ... Vehicle_Title    OBO Feedback_Perc Watch_Count  \\\n",
      "0              Touring  ...           NaN  FALSE           8.1         NaN   \n",
      "1              Touring  ...           NaN  FALSE           100          17   \n",
      "2             R-Series  ...           NaN  FALSE           100         NaN   \n",
      "3              Touring  ...           NaN  FALSE           100         NaN   \n",
      "4              Touring  ...           NaN  FALSE           100          13   \n",
      "...                ...  ...           ...    ...           ...         ...   \n",
      "2981               CRF  ...           NaN   TRUE           100          10   \n",
      "2985               CBR  ...           NaN   TRUE           100          10   \n",
      "2988       Scout Sixty  ...           NaN  FALSE           100         NaN   \n",
      "2989           Touring  ...           NaN   TRUE           NaN          1<   \n",
      "2995  Indian Chieftain  ...           NaN  FALSE           100          4<   \n",
      "\n",
      "     N_Reviews   Seller_Status Vehicle_Tile Auction Buy_Now Bid_Count  \n",
      "0         2427  Private Seller        Clear    TRUE   FALSE        28  \n",
      "1          657  Private Seller        Clear    TRUE    TRUE         0  \n",
      "2          136             NaN        Clear    TRUE   FALSE        26  \n",
      "3         2920          Dealer        Clear    TRUE   FALSE        11  \n",
      "4          271           OWNER        Clear    TRUE    TRUE         0  \n",
      "...        ...             ...          ...     ...     ...       ...  \n",
      "2981       153             NaN        Clear   FALSE    TRUE       NaN  \n",
      "2985       119  Private Seller        Clear   FALSE    TRUE       NaN  \n",
      "2988       699  Private Seller        Clear    TRUE   FALSE         0  \n",
      "2989         0  Private Seller        Clear   FALSE    TRUE       NaN  \n",
      "2995       234  Private Seller        Clear   FALSE    TRUE       NaN  \n",
      "\n",
      "[1267 rows x 22 columns]\n"
     ]
    }
   ],
   "source": [
    "import pandas as pd\n",
    "\n",
    "df = pd.read_csv('data/MotorcycleData.csv',encoding = 'utf-8',dtype =str)\n",
    "\n",
    "from sklearn.feature_extraction.text import TfidfVectorizer \n",
    "from sklearn.metrics.pairwise import cosine_similarity\n",
    "\n",
    "data = pd.Series(df['Location']).to_numpy()\n",
    "# 数据矢量化\n",
    "vectorizer = TfidfVectorizer ()\n",
    "vectors = vectorizer.fit_transform(data.astype('U'))\n",
    "# 计算余弦相似度\n",
    "similarities = cosine_similarity(vectors)\n",
    "print(similarities)\n",
    "# 查找重复\n",
    "duplicates=set()\n",
    "for i in range (len(similarities)):\n",
    "    for j in range(i+1, len(similarities)):\n",
    "        if similarities[i][j] > 0.95:\n",
    "            duplicates.add (j)\n",
    "# 删除重复内容\n",
    "print(duplicates)\n",
    "df.drop(index=duplicates,inplace=True)\n",
    "print(df)"
   ]
  },
  {
   "cell_type": "code",
   "execution_count": null,
   "metadata": {},
   "outputs": [],
   "source": [
    "from sklearn.metrics.pairwise import cosine_similarity  \n",
    "from sklearn.feature_extraction.text import TfidfVectorizer  \n",
    "  \n",
    "# 假设我们有两个文本  \n",
    "text1 = \"This is the first document.\"  \n",
    "text2 = \"This document is the second document.\"\n",
    "text3 = \"This document is the second document.\"    \n",
    "  \n",
    "# 使用TF-IDF向量化器将文本转换为向量  \n",
    "vectorizer = TfidfVectorizer().fit_transform([text1, text2, text3])  \n",
    "  \n",
    "# 计算余弦相似度  \n",
    "cosine_sim = cosine_similarity(vectorizer[0:1], vectorizer[2:3])  \n",
    "print(f\"Cosine Similarity: {cosine_sim[0][0]}\")"
   ]
  },
  {
   "cell_type": "code",
   "execution_count": null,
   "metadata": {},
   "outputs": [],
   "source": [
    "import nltk\n",
    "from nltk.metrics import edit_distance\n",
    "\n",
    "str1 = \"kitten\"\n",
    "str2 = \"sitting\"\n",
    "distance = edit_distance(str1, str2)\n",
    "print(distance)"
   ]
  },
  {
   "cell_type": "code",
   "execution_count": null,
   "metadata": {},
   "outputs": [],
   "source": [
    "import numpy as np\n",
    "import pandas as pd\n",
    "\n",
    "def cosine_similarity(df):\n",
    "    \"\"\"\n",
    "    计算数据帧中每行之间的余弦相似度\n",
    "    \"\"\"\n",
    "    # 计算每一行的L2范数\n",
    "    norms = df.apply(np.linalg.norm, axis=1)\n",
    "\n",
    "    # 计算余弦相似度\n",
    "    cosine_sim = df.dot(df.T).divide(np.outer(norms, norms))\n",
    "\n",
    "    # 将对角线设置为NaN，因为每行与自己的余弦相似度为1\n",
    "    np.fill_diagonal(cosine_sim.values, np.nan)\n",
    "\n",
    "    # 将余弦相似度存储在数据框中\n",
    "    sim_df = pd.DataFrame(cosine_sim.values, index=df.index, columns=df.index)\n",
    "\n",
    "    return sim_df\n",
    "\n",
    "# 示例电影评分数据集\n",
    "ratings_df = pd.DataFrame({\n",
    "    'user0': [3, 1, 2, 0, 2],\n",
    "    'user1': [1, 3, 4, 1, 0],\n",
    "    'user2': [2, 4, 4, 1, 1],\n",
    "    'user3': [1, 2, 1, 3, 4],\n",
    "    'user4': [4, 1, 3, 2, 0]\n",
    "}, index=['movie0', 'movie1', 'movie2', 'movie3', 'movie4'])\n",
    "\n",
    "# 计算每个用户之间的余弦相似度\n",
    "similarity_df = cosine_similarity(ratings_df)\n",
    "print(similarity_df.head(10))\n",
    "print(ratings_df.head(10))\n"
   ]
  },
  {
   "cell_type": "code",
   "execution_count": null,
   "metadata": {},
   "outputs": [],
   "source": [
    "import pandas as pd\n",
    "import numpy as np\n",
    "from scipy.spatial.distance import cosine\n",
    "\n",
    "data = pd.read_csv('data/online_order.csv')\n",
    "print(data.head())\n",
    "\n",
    "def cosine_sim(row1, row2):\n",
    "    return 1 - cosine(row1, row2)\n",
    "\n",
    "data['similarity'] = data.apply(lambda row: data.apply(lambda other_row: cosine_sim(row, other_row), axis=1), axis=1)\n",
    "\n",
    "def most_similar(row, n):\n",
    "    return row.sort_values(ascending=False)[:n]\n",
    "\n",
    "data.apply(lambda row: most_similar(row, 3), axis=1)\n",
    "\n"
   ]
  },
  {
   "cell_type": "markdown",
   "metadata": {},
   "source": [
    "# 余弦相似度"
   ]
  },
  {
   "cell_type": "code",
   "execution_count": null,
   "metadata": {},
   "outputs": [],
   "source": [
    "import numpy as np\n",
    "\n",
    "def cosine_similarity(vector1, vector2):\n",
    "    dot_product = np.dot(vector1, vector2)\n",
    "    norm_vector1 = np.linalg.norm(vector1)\n",
    "    norm_vector2 = np.linalg.norm(vector2)\n",
    "    return dot_product / (norm_vector1 * norm_vector2)\n",
    "\n",
    "vector1 = np.array([1, 2, 3])\n",
    "vector2 = np.array([4, 5, 6])\n",
    "similarity = cosine_similarity(vector1, vector2)\n",
    "\n",
    "print(f\"余弦相似度: {similarity}\")"
   ]
  },
  {
   "cell_type": "markdown",
   "metadata": {},
   "source": [
    "# 欧氏距离"
   ]
  },
  {
   "cell_type": "code",
   "execution_count": null,
   "metadata": {},
   "outputs": [],
   "source": [
    "import numpy as np\n",
    "\n",
    "def euclidean_distance(vector1, vector2):\n",
    "    return np.linalg.norm(vector1 - vector2)\n",
    "\n",
    "vector1 = np.array([1, 2, 3])\n",
    "vector2 = np.array([4, 5, 6])\n",
    "\n",
    "distance = euclidean_distance(vector1, vector2)\n",
    "\n",
    "print(f\"欧氏距离: {distance}\")"
   ]
  },
  {
   "cell_type": "code",
   "execution_count": null,
   "metadata": {},
   "outputs": [],
   "source": [
    "import numpy as np\n",
    "\n",
    "def manhattan_distance(vector1, vector2):\n",
    "    return np.sum(np.abs(vector1 - vector2))\n",
    "\n",
    "vector1 = np.array([1, 2, 3])\n",
    "vector2 = np.array([4, 5, 6])\n",
    "\n",
    "distance = manhattan_distance(vector1, vector2)\n",
    "\n",
    "print(f\"曼哈顿距离: {distance}\")"
   ]
  }
 ],
 "metadata": {
  "kernelspec": {
   "display_name": "base",
   "language": "python",
   "name": "python3"
  },
  "language_info": {
   "codemirror_mode": {
    "name": "ipython",
    "version": 3
   },
   "file_extension": ".py",
   "mimetype": "text/x-python",
   "name": "python",
   "nbconvert_exporter": "python",
   "pygments_lexer": "ipython3",
   "version": "3.9.20"
  }
 },
 "nbformat": 4,
 "nbformat_minor": 2
}
